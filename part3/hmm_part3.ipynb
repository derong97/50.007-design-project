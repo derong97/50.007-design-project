{
 "cells": [
  {
   "cell_type": "code",
   "execution_count": 1,
   "metadata": {
    "ExecuteTime": {
     "end_time": "2020-12-08T15:10:03.838069Z",
     "start_time": "2020-12-08T15:10:03.565044Z"
    }
   },
   "outputs": [],
   "source": [
    "from tqdm.auto import tqdm\n",
    "import numpy as np"
   ]
  },
  {
   "cell_type": "markdown",
   "metadata": {},
   "source": [
    "## Emissions\n",
    "This is the fixed emission code from part 2. By \"fixed\", we mean that it takes into consideration unknown words not in train set (i.e. replaced with `\"#UNK#\"`)."
   ]
  },
  {
   "cell_type": "code",
   "execution_count": 2,
   "metadata": {
    "ExecuteTime": {
     "end_time": "2020-12-08T15:10:03.869657Z",
     "start_time": "2020-12-08T15:10:03.843067Z"
    }
   },
   "outputs": [],
   "source": [
    "def train_emission(filename):\n",
    "    \"\"\"\n",
    "    Returns - a dictionary containing emission parameters\n",
    "    \"\"\"\n",
    "    with open(filename, encoding=\"utf8\") as f:\n",
    "        lines = f.readlines()\n",
    "    \n",
    "    # for each state y, keep track of each observation count i.e. count (y -> x)\n",
    "    # before eg: {state1: {obs1: 1, obs2: 5}, state2: {obs1: 4}}\n",
    "    emission_dict = {}\n",
    "    \n",
    "    # update emission_dict for state with count(y -> x) = 0\n",
    "    # after eg: {state1: {obs1: 1, obs2: 5}, state2: {obs1: 4, obs2: 0}}\n",
    "    observations = set()\n",
    "    \n",
    "    for line in lines:\n",
    "        split_line = line.split()\n",
    "        \n",
    "        # process only valid lines\n",
    "        if len(split_line) == 2:\n",
    "            obs, state = split_line[0], split_line[1]\n",
    "            \n",
    "            observations.add(obs)\n",
    "            \n",
    "            if state not in emission_dict:\n",
    "                emission_dict[state] = {}\n",
    "                \n",
    "            if obs not in emission_dict[state]:\n",
    "                emission_dict[state][obs] = 1\n",
    "            else:\n",
    "                emission_dict[state][obs] += 1\n",
    "\n",
    "    for k, v in emission_dict.items():\n",
    "        for obs in observations:\n",
    "            if obs not in v:\n",
    "                emission_dict[k][obs] = 0\n",
    "    \n",
    "    return emission_dict"
   ]
  },
  {
   "cell_type": "code",
   "execution_count": 3,
   "metadata": {
    "ExecuteTime": {
     "end_time": "2020-12-08T15:10:03.885197Z",
     "start_time": "2020-12-08T15:10:03.872659Z"
    }
   },
   "outputs": [],
   "source": [
    "def get_emission_params_fixed(emission_dict, state, obs, k=0.5):\n",
    "    \n",
    "    if state not in emission_dict:\n",
    "        raise Exception(\"State not in emission dict\")\n",
    "    \n",
    "    state_data = emission_dict[state]\n",
    "    count_y = sum(state_data.values()) # count(y)\n",
    "    \n",
    "    if obs == \"#UNK#\":\n",
    "        count_y_to_x = k\n",
    "    else:\n",
    "        count_y_to_x = state_data[obs] # count(y -> x)\n",
    "    \n",
    "    return count_y_to_x / (count_y + k)"
   ]
  },
  {
   "cell_type": "markdown",
   "metadata": {},
   "source": [
    "## Transitions "
   ]
  },
  {
   "cell_type": "code",
   "execution_count": 4,
   "metadata": {
    "ExecuteTime": {
     "end_time": "2020-12-08T15:10:03.901164Z",
     "start_time": "2020-12-08T15:10:03.889164Z"
    }
   },
   "outputs": [],
   "source": [
    "def train_transition(filename):\n",
    "    \"\"\"\n",
    "    Returns - a dictionary containing transition parameters\n",
    "    \"\"\"\n",
    "    with open(filename, encoding=\"utf8\") as f:\n",
    "        lines = f.readlines()\n",
    "    \n",
    "    # for each state u, keep track of each state count i.e. count (u,v)\n",
    "    # before eg: {START: {y1: 1, y2: 5}, y1: {y1: 3, y2: 4, STOP: 1}, y2: {y1: 1, STOP: 3}}\n",
    "    transition_dict = {}\n",
    "    \n",
    "    # after eg: {START: {y1: 1, y2: 5, STOP: 0}, y1: {y1: 3, y2: 4, STOP: 1}, y2: {y1: 1, y2: 0, STOP: 3}}\n",
    "    states = set()\n",
    "    states.add('STOP')\n",
    "    \n",
    "    prev_state = 'START'\n",
    "        \n",
    "    for line in lines:\n",
    "        split_line = line.split()\n",
    "        \n",
    "        if prev_state not in transition_dict:\n",
    "            transition_dict[prev_state] = {}\n",
    "                \n",
    "        # can only be START or STOP\n",
    "        if len(split_line) < 2:\n",
    "            if 'STOP' not in transition_dict[prev_state]:\n",
    "                transition_dict[prev_state]['STOP'] = 0\n",
    "            \n",
    "            transition_dict[prev_state]['STOP'] += 1\n",
    "            prev_state = 'START'\n",
    "        \n",
    "        # processing the sentence\n",
    "        elif len(split_line) == 2:\n",
    "            curr_state = split_line[1]\n",
    "            states.add(curr_state)\n",
    "           \n",
    "            if curr_state not in transition_dict[prev_state]:\n",
    "                transition_dict[prev_state][curr_state] = 0\n",
    "            \n",
    "            transition_dict[prev_state][curr_state] += 1\n",
    "            prev_state = curr_state\n",
    "    \n",
    "    for k, v in transition_dict.items():\n",
    "        for state in states:\n",
    "            if state not in v:\n",
    "                transition_dict[k][state] = 0\n",
    "    \n",
    "    return transition_dict"
   ]
  },
  {
   "cell_type": "code",
   "execution_count": 5,
   "metadata": {
    "ExecuteTime": {
     "end_time": "2020-12-08T15:10:03.917165Z",
     "start_time": "2020-12-08T15:10:03.902165Z"
    }
   },
   "outputs": [],
   "source": [
    "def get_transition_params(transition_dict, u, v):\n",
    "    \n",
    "    if u not in transition_dict:\n",
    "        raise Exception(\"State u not in transition dict\")\n",
    "        \n",
    "    if v not in transition_dict[u]:\n",
    "        raise Exception(\"State v not in transition dict\")\n",
    "    \n",
    "    state_data = transition_dict[u]\n",
    "    \n",
    "    count_u_to_v = state_data[v] # count(u,v)\n",
    "    count_u = sum(state_data.values()) # count(u)\n",
    "            \n",
    "    return count_u_to_v / count_u"
   ]
  },
  {
   "cell_type": "markdown",
   "metadata": {},
   "source": [
    "# Helper Functions"
   ]
  },
  {
   "cell_type": "code",
   "execution_count": 6,
   "metadata": {
    "ExecuteTime": {
     "end_time": "2020-12-08T15:10:03.933165Z",
     "start_time": "2020-12-08T15:10:03.918166Z"
    }
   },
   "outputs": [],
   "source": [
    "def log(m):\n",
    "    if isinstance(m, float) or isinstance(m, int):\n",
    "        return -np.inf if m == 0 else np.log(m)\n",
    "    \n",
    "    m = np.clip(m, 1e-32, None)\n",
    "    x = np.log(m)\n",
    "    \n",
    "    x[x <= np.log(1e-32)] = -np.inf\n",
    "    \n",
    "    return x"
   ]
  },
  {
   "cell_type": "code",
   "execution_count": 7,
   "metadata": {
    "ExecuteTime": {
     "end_time": "2020-12-08T15:10:03.949167Z",
     "start_time": "2020-12-08T15:10:03.934168Z"
    }
   },
   "outputs": [],
   "source": [
    "def obtain_all_obs(emission_dict):\n",
    "    \"\"\"\n",
    "    Obtain all distinct observations words in the emission_dict.\n",
    "    Purpose: This helps us identify words in Test Set that do not exist in the Training Set (or the emission_dict)\n",
    "    Returns - Set of Strings.\n",
    "    \"\"\"\n",
    "    all_observations = set()\n",
    "    \n",
    "    for s_to_obs_dict in emission_dict.values():\n",
    "        for obs in s_to_obs_dict.keys():\n",
    "            all_observations.add(obs)\n",
    "            \n",
    "    return all_observations\n",
    "\n",
    "def preprocess_sentence(sentence, training_set_words):\n",
    "    \"\"\"\n",
    "    sentence - a list of Strings (words or observations)\n",
    "    Returns - a list of Strings, where Strings not in training_set_words are replaced by \"#UNK#\"\n",
    "    \"\"\"\n",
    "    return [ word if word in training_set_words else \"#UNK#\" for word in sentence ]"
   ]
  },
  {
   "cell_type": "markdown",
   "metadata": {},
   "source": [
    "## Training"
   ]
  },
  {
   "cell_type": "code",
   "execution_count": 8,
   "metadata": {
    "ExecuteTime": {
     "end_time": "2020-12-08T15:10:03.965168Z",
     "start_time": "2020-12-08T15:10:03.951169Z"
    }
   },
   "outputs": [],
   "source": [
    "def train(filename):\n",
    "    \"\"\"\n",
    "    Returns - A 2-tuple (Dict, Dict): emission and transition parameters\n",
    "    \"\"\"\n",
    "    return train_emission(filename), train_transition(filename)"
   ]
  },
  {
   "cell_type": "code",
   "execution_count": 9,
   "metadata": {
    "ExecuteTime": {
     "end_time": "2020-12-08T15:10:03.996757Z",
     "start_time": "2020-12-08T15:10:03.967171Z"
    }
   },
   "outputs": [],
   "source": [
    "def viterbi(emission_dict, transition_dict, sentence, is_preprocessed):\n",
    "    \"\"\"\n",
    "    Dynamic Programming approach (Viterbi algorithm) to generate state sequence given a sentence.\n",
    "    emission_dict - Dictionary. Emission parameters generated from training data.\n",
    "    transition_dict - Dictionary. Transition parameters generated from training data.\n",
    "    sentence - list of Strings (input words or observations)\n",
    "    is_preprocessed - boolean. True if variable sentence is preprocessed (unknown words (not in train) changed to \"#UNK#\")\n",
    "    Returns - List of Strings - (Predicted sequence of states corresponding to sentence).\n",
    "    \"\"\"\n",
    "    \n",
    "    all_states = list(emission_dict.keys())\n",
    "    \n",
    "    proc_sent = sentence\n",
    "    if not is_preprocessed:\n",
    "        training_set_words = obtain_all_obs(emission_dict)\n",
    "        proc_sent = preprocess_sentence(sentence, training_set_words)\n",
    "    proc_sent = [\"start\"] + proc_sent + [\"stop\"]\n",
    "    \n",
    "    n = len(proc_sent)\n",
    "\n",
    "    # Pi np\n",
    "    P = np.ones( (len(proc_sent), len(all_states))) * -np.inf\n",
    "    # Backtrace np\n",
    "    B = [ [ None for x in all_states ] for y in proc_sent ]\n",
    "    \n",
    "    # Helper functions for recursive step\n",
    "    a = lambda u, v: get_transition_params(transition_dict, u, v)\n",
    "    b = lambda state, obs: get_emission_params_fixed(emission_dict, state, obs, k=0.5)\n",
    "    \n",
    "    # Base Case at j=1\n",
    "    t = np.array([ a('START', v) for v in all_states ])\n",
    "    e = np.array([ b(v, proc_sent[1]) for v in all_states ])\n",
    "    P[1, :] = log(t) + log(e)\n",
    "    B[1] = [ \"START\" for row in B[1] ]\n",
    "\n",
    "    # Recursive Forward Step\n",
    "    for j in range(2, n-1): # Going right the columns (obs)\n",
    "        x = proc_sent[j]  # Obtain j'th word in the (processed) sentence\n",
    "\n",
    "        for row_no, v in enumerate(all_states): # Going down the rows (states)\n",
    "            transitions = np.array([ a(u, v) for u in all_states ])\n",
    "            prev_scores = P[j-1, :] + log(transitions) \n",
    "            top = prev_scores.argmax()\n",
    "            P[j,row_no] = prev_scores[top] + log(b(v,x))\n",
    "            B[j][row_no] = all_states[top]\n",
    "            if P[j,row_no] == -np.inf:\n",
    "                B[j][row_no] = None\n",
    "\n",
    "    # Termination: j=n-1. Note that proc_sent[n-1] give us the last word in sentence.\n",
    "    j = n-1\n",
    "    transitions = np.array([ a(u, \"STOP\") for u in all_states ])\n",
    "    previous_scores = P[j-1] + log(transitions)\n",
    "    last_state = all_states[previous_scores.argmax()]\n",
    "\n",
    "    # Backtrace\n",
    "    state_seq = ['STOP'] + [last_state]\n",
    "    for j in range(n-2, 0, -1):\n",
    "        curr_state = state_seq[-1]\n",
    "        curr_state_row_no = all_states.index(curr_state)    \n",
    "        prev_state = B[j][curr_state_row_no]\n",
    "\n",
    "        if prev_state == None: # edge case\n",
    "            return ['O'] * (n-2)\n",
    "            break\n",
    "\n",
    "        state_seq.append(prev_state)\n",
    "\n",
    "    state_seq = state_seq[::-1][1:-1]  # reverse and drop START, STOP\n",
    "    return state_seq"
   ]
  },
  {
   "cell_type": "markdown",
   "metadata": {},
   "source": [
    "## Testing with Example "
   ]
  },
  {
   "cell_type": "code",
   "execution_count": 10,
   "metadata": {
    "ExecuteTime": {
     "end_time": "2020-12-08T15:10:04.515340Z",
     "start_time": "2020-12-08T15:10:03.998758Z"
    }
   },
   "outputs": [
    {
     "name": "stdout",
     "output_type": "stream",
     "text": [
      "['B-NP', 'I-NP', 'B-PP', 'B-NP', 'I-NP', 'O']\n"
     ]
    }
   ],
   "source": [
    "emission_dict, transition_dict = train('../dataset/EN/train')\n",
    "\n",
    "sentence = \"The quick brown fox jumps .\"\n",
    "sentence = sentence.split(' ')\n",
    "\n",
    "seq = viterbi(emission_dict, transition_dict, sentence, is_preprocessed=False)\n",
    "print(seq)"
   ]
  },
  {
   "cell_type": "markdown",
   "metadata": {},
   "source": [
    "# Evaluation on dev.in\n",
    "\n",
    "\n",
    "<font color='red'>This takes roughly 4 minutes.</font>"
   ]
  },
  {
   "cell_type": "code",
   "execution_count": 11,
   "metadata": {
    "ExecuteTime": {
     "end_time": "2020-12-08T15:14:27.826152Z",
     "start_time": "2020-12-08T15:10:04.519356Z"
    }
   },
   "outputs": [
    {
     "data": {
      "application/vnd.jupyter.widget-view+json": {
       "model_id": "3fcc8cb190734fa08a0bd697af0ce51e",
       "version_major": 2,
       "version_minor": 0
      },
      "text/plain": [
       "HBox(children=(FloatProgress(value=0.0, max=3.0), HTML(value='')))"
      ]
     },
     "metadata": {},
     "output_type": "display_data"
    },
    {
     "name": "stdout",
     "output_type": "stream",
     "text": [
      "Evaluating on EN.\n"
     ]
    },
    {
     "data": {
      "application/vnd.jupyter.widget-view+json": {
       "model_id": "5360b340018a4a08823fbb3da31505c9",
       "version_major": 2,
       "version_minor": 0
      },
      "text/plain": [
       "HBox(children=(FloatProgress(value=0.0, max=27225.0), HTML(value='')))"
      ]
     },
     "metadata": {},
     "output_type": "display_data"
    },
    {
     "name": "stdout",
     "output_type": "stream",
     "text": [
      "\n",
      "Evaluating on SG.\n"
     ]
    },
    {
     "data": {
      "application/vnd.jupyter.widget-view+json": {
       "model_id": "ed87996ad284432dbc75c4f386890f07",
       "version_major": 2,
       "version_minor": 0
      },
      "text/plain": [
       "HBox(children=(FloatProgress(value=0.0, max=36841.0), HTML(value='')))"
      ]
     },
     "metadata": {},
     "output_type": "display_data"
    },
    {
     "name": "stdout",
     "output_type": "stream",
     "text": [
      "\n",
      "Evaluating on CN.\n"
     ]
    },
    {
     "data": {
      "application/vnd.jupyter.widget-view+json": {
       "model_id": "8c28744fe4f24f2a919e84c71c5b8279",
       "version_major": 2,
       "version_minor": 0
      },
      "text/plain": [
       "HBox(children=(FloatProgress(value=0.0, max=13414.0), HTML(value='')))"
      ]
     },
     "metadata": {},
     "output_type": "display_data"
    },
    {
     "name": "stdout",
     "output_type": "stream",
     "text": [
      "\n",
      "\n"
     ]
    }
   ],
   "source": [
    "datasets = ['EN', 'SG', 'CN']\n",
    "\n",
    "for dataset in tqdm(datasets):\n",
    "    \n",
    "    print(f\"Evaluating on {dataset}.\")\n",
    "    in_file = f\"../dataset/{dataset}/dev.in\"\n",
    "    train_file = f\"../dataset/{dataset}/train\"\n",
    "    out_file = f\"../dataset/{dataset}/dev.p3.out\"\n",
    "    \n",
    "    # Train\n",
    "    emission_dict, transition_dict = train(train_file)\n",
    "    # Obtain all distinct words in Training Set\n",
    "    training_set_words = obtain_all_obs(emission_dict)\n",
    "    \n",
    "    # Create file handler to write to /dev.p2.out\n",
    "    outf_h = open(out_file, \"w\", encoding=\"utf8\")\n",
    "    \n",
    "    # Read in file\n",
    "    with open(in_file, encoding=\"utf8\") as f:\n",
    "        lines = f.readlines()\n",
    "        \n",
    "    sent = [] # initialise array to store 1 sentence at a time.\n",
    "    for word in tqdm(lines):\n",
    "        \n",
    "        if word != \"\\n\":\n",
    "            sent.append(word.strip())\n",
    "            \n",
    "        # We reached end of sentence - time to predict sentence's sequence of states (aka tags)\n",
    "        else:\n",
    "            # preprocess sentence (change unknown words to \"#UNK#\")\n",
    "            sent_proc = preprocess_sentence(sent, training_set_words)\n",
    "            # obtain processed sentence's predicted state seq (list of corresponding predicted states for each word in sent)\n",
    "            sent_state_sequence = viterbi(emission_dict, transition_dict, sent_proc, is_preprocessed=True)\n",
    "            \n",
    "            for word, state in zip(sent, sent_state_sequence):\n",
    "                outf_h.write(word + ' ' + state)\n",
    "                outf_h.write(\"\\n\") # newline for each word\n",
    "            outf_h.write(\"\\n\") # another newline when end of sentence\n",
    "\n",
    "            # Reset sentence list\n",
    "            sent = []\n",
    "            \n",
    "    outf_h.close()"
   ]
  },
  {
   "cell_type": "markdown",
   "metadata": {},
   "source": [
    "## Running EvalScript"
   ]
  },
  {
   "cell_type": "code",
   "execution_count": 12,
   "metadata": {
    "ExecuteTime": {
     "end_time": "2020-12-08T15:14:27.841153Z",
     "start_time": "2020-12-08T15:14:27.828155Z"
    }
   },
   "outputs": [
    {
     "name": "stdout",
     "output_type": "stream",
     "text": [
      "C:\\Users\\kting\\Documents\\GitHub\\50.007-design-project\\EvalScript\n"
     ]
    }
   ],
   "source": [
    "%cd ../EvalScript"
   ]
  },
  {
   "cell_type": "code",
   "execution_count": 13,
   "metadata": {
    "ExecuteTime": {
     "end_time": "2020-12-08T15:14:28.535407Z",
     "start_time": "2020-12-08T15:14:27.843154Z"
    }
   },
   "outputs": [
    {
     "name": "stdout",
     "output_type": "stream",
     "text": [
      "EN\n",
      "\n",
      "#Entity in gold data: 13179\n",
      "#Entity in prediction: 11871\n",
      "\n",
      "#Correct Entity : 9634\n",
      "Entity  precision: 0.8116\n",
      "Entity  recall: 0.7310\n",
      "Entity  F: 0.7692\n",
      "\n",
      "#Correct Sentiment : 9191\n",
      "Sentiment  precision: 0.7742\n",
      "Sentiment  recall: 0.6974\n",
      "Sentiment  F: 0.7338\n",
      "====================\n",
      "\n",
      "SG\n",
      "\n",
      "#Entity in gold data: 4301\n",
      "#Entity in prediction: 4202\n",
      "\n",
      "#Correct Entity : 2190\n",
      "Entity  precision: 0.5212\n",
      "Entity  recall: 0.5092\n",
      "Entity  F: 0.5151\n",
      "\n",
      "#Correct Sentiment : 1805\n",
      "Sentiment  precision: 0.4296\n",
      "Sentiment  recall: 0.4197\n",
      "Sentiment  F: 0.4246\n",
      "====================\n",
      "\n",
      "CN\n",
      "\n",
      "#Entity in gold data: 700\n",
      "#Entity in prediction: 777\n",
      "\n",
      "#Correct Entity : 199\n",
      "Entity  precision: 0.2561\n",
      "Entity  recall: 0.2843\n",
      "Entity  F: 0.2695\n",
      "\n",
      "#Correct Sentiment : 120\n",
      "Sentiment  precision: 0.1544\n",
      "Sentiment  recall: 0.1714\n",
      "Sentiment  F: 0.1625\n",
      "====================\n",
      "\n"
     ]
    }
   ],
   "source": [
    "datasets = ['EN', 'SG', 'CN']\n",
    "\n",
    "for dataset in datasets:\n",
    "    gold = f\"../dataset/{dataset}/dev.out\"\n",
    "    pred = f\"../dataset/{dataset}/dev.p3.out\"\n",
    "    print(dataset)\n",
    "    !python evalResult.py $gold $pred\n",
    "    print(\"=\" * 20, end=\"\\n\\n\")"
   ]
  }
 ],
 "metadata": {
  "kernelspec": {
   "display_name": "Python 3",
   "language": "python",
   "name": "python3"
  },
  "language_info": {
   "codemirror_mode": {
    "name": "ipython",
    "version": 3
   },
   "file_extension": ".py",
   "mimetype": "text/x-python",
   "name": "python",
   "nbconvert_exporter": "python",
   "pygments_lexer": "ipython3",
   "version": "3.7.6"
  }
 },
 "nbformat": 4,
 "nbformat_minor": 4
}
