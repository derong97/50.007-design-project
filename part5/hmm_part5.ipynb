{
 "cells": [
  {
   "cell_type": "code",
   "execution_count": 1,
   "metadata": {},
   "outputs": [],
   "source": [
    "from tqdm.auto import tqdm"
   ]
  },
  {
   "cell_type": "markdown",
   "metadata": {},
   "source": [
    "# Emissions\n",
    "Copied from part 2"
   ]
  },
  {
   "cell_type": "code",
   "execution_count": 2,
   "metadata": {},
   "outputs": [],
   "source": [
    "def train_emission(filename):\n",
    "    \"\"\"\n",
    "    Returns - a dictionary containing emission parameters\n",
    "    \"\"\"\n",
    "    with open(filename, encoding=\"utf8\") as f:\n",
    "        lines = f.readlines()\n",
    "    \n",
    "    # for each state y, keep track of each observation count i.e. count (y -> x)\n",
    "    # before eg: {state1: {obs1: 1, obs2: 5}, state2: {obs1: 4}}\n",
    "    emission_dict = {}\n",
    "    \n",
    "    # update emission_dict for state with count(y -> x) = 0\n",
    "    # after eg: {state1: {obs1: 1, obs2: 5}, state2: {obs1: 4, obs2: 0}}\n",
    "    observations = set()\n",
    "    \n",
    "    for line in lines:\n",
    "        split_line = line.split()\n",
    "        \n",
    "        # process only valid lines\n",
    "        if len(split_line) == 2:\n",
    "            obs, state = split_line[0], split_line[1]\n",
    "            tuv\n",
    "            observations.add(obs)\n",
    "            \n",
    "            if state not in emission_dict:\n",
    "                emission_dict[state] = {}\n",
    "                \n",
    "            if obs not in emission_dict[state]:\n",
    "                emission_dict[state][obs] = 1\n",
    "            else:\n",
    "                emission_dict[state][obs] += 1\n",
    "\n",
    "    for k, v in emission_dict.items():\n",
    "        for obs in observations:\n",
    "            if obs not in v:\n",
    "                emission_dict[k][obs] = 0\n",
    "    \n",
    "    return emission_dict"
   ]
  },
  {
   "cell_type": "code",
   "execution_count": 3,
   "metadata": {},
   "outputs": [],
   "source": [
    "def get_emission_params_fixed(emission_dict, state, obs, k=0.5):\n",
    "    \n",
    "    if state not in emission_dict:\n",
    "        return 0\n",
    "    \n",
    "    state_data = emission_dict[state]\n",
    "    count_y = sum(state_data.values()) # count(y)\n",
    "    \n",
    "    if obs == \"#UNK#\":\n",
    "        count_y_to_x = k\n",
    "    else:\n",
    "        count_y_to_x = state_data[obs] # count(y -> x)\n",
    "    \n",
    "    return count_y_to_x / (count_y + k)"
   ]
  },
  {
   "cell_type": "markdown",
   "metadata": {},
   "source": [
    "# Transitions\n",
    "Function is changed from previous parts to count for transitions from t -> u -> v"
   ]
  },
  {
   "cell_type": "code",
   "execution_count": 4,
   "metadata": {},
   "outputs": [],
   "source": [
    "def train_transition(filename):\n",
    "    \"\"\"\n",
    "    Returns - 2 dictionaries containing transition parameters and a set of all unique states\n",
    "    \n",
    "    \"\"\"\n",
    "    with open(filename, encoding=\"utf8\") as f:\n",
    "        lines = f.readlines()\n",
    "    \n",
    "    # Store all set of 3 state transitions\n",
    "    # eg: {(PREVSTART, START, state1): 2, (PREVSTART, START, state2): 3, ...}\n",
    "    transition_dict = {}\n",
    "\n",
    "    states = set()\n",
    "    states.add('STOP')\n",
    "    states.add('PREVSTART')\n",
    "    states.add('START')\n",
    "    \n",
    "    prev_prev_state = 'PREVSTART'\n",
    "    prev_state = 'START'\n",
    "        \n",
    "    for line in lines:\n",
    "        split_line = line.split()\n",
    "                \n",
    "        # Start new sequence\n",
    "        if len(split_line) < 2:\n",
    "            if (prev_prev_state, prev_state, 'STOP') not in transition_dict.keys():\n",
    "                transition_dict[(prev_prev_state, prev_state, 'STOP')] = 1\n",
    "            else:\n",
    "                transition_dict[(prev_prev_state, prev_state, 'STOP')] += 1\n",
    "            prev_prev_state = 'PREVSTART'\n",
    "            prev_state = 'START'\n",
    "\n",
    "        # Processing the current sequence\n",
    "        elif len(split_line) == 2:\n",
    "            curr_state = split_line[1]\n",
    "            states.add(curr_state)\n",
    "            \n",
    "            if (prev_prev_state, prev_state, curr_state) not in transition_dict.keys():\n",
    "                transition_dict[(prev_prev_state, prev_state, curr_state)] = 1\n",
    "            \n",
    "            else:\n",
    "                transition_dict[(prev_prev_state, prev_state, curr_state)] += 1\n",
    "            \n",
    "            prev_prev_state = prev_state\n",
    "            prev_state = curr_state\n",
    "            \n",
    "    \n",
    "    # Store all transition counts from state t to u\n",
    "    transition_count = {}\n",
    "    \n",
    "    for (t, u ,v), count in transition_dict.items():\n",
    "        if (t, u) not in transition_count.keys():\n",
    "            transition_count[(t, u)] = count\n",
    "        else:\n",
    "            transition_count[(t, u)] += count\n",
    "    \n",
    "    return transition_dict, transition_count, states"
   ]
  },
  {
   "cell_type": "code",
   "execution_count": 5,
   "metadata": {},
   "outputs": [],
   "source": [
    "def get_transition_params(transition_dict, transition_count, t, u, v):\n",
    "    \n",
    "    if (t, u, v) not in transition_dict.keys():\n",
    "        return 0\n",
    "    \n",
    "    count_t_u_v = transition_dict[(t, u ,v)]\n",
    "    count_t_u = transition_count[(t, u)]\n",
    "            \n",
    "    return count_t_u_v / count_t_u"
   ]
  },
  {
   "cell_type": "markdown",
   "metadata": {},
   "source": [
    "## Helper functions"
   ]
  },
  {
   "cell_type": "code",
   "execution_count": 6,
   "metadata": {},
   "outputs": [],
   "source": [
    "def obtain_all_obs(emission_dict):\n",
    "    \"\"\"\n",
    "    Obtain all distinct observations words in the emission_dict.\n",
    "    Purpose: This helps us identify words in Test Set that do not exist in the Training Set (or the emission_dict)\n",
    "    Returns - Set of Strings.\n",
    "    \"\"\"\n",
    "    all_observations = set()\n",
    "    \n",
    "    for s_to_obs_dict in emission_dict.values():\n",
    "        for obs in s_to_obs_dict.keys():\n",
    "            all_observations.add(obs)\n",
    "            \n",
    "    return all_observations\n",
    "\n",
    "def preprocess_sentence(sentence, training_set_words):\n",
    "    \"\"\"\n",
    "    sentence - a list of Strings (words or observations)\n",
    "    Returns - a list of Strings, where Strings not in training_set_words are replaced by \"#UNK#\"\n",
    "    \"\"\"\n",
    "    return [ word if word in training_set_words else \"#UNK#\" for word in sentence ]"
   ]
  },
  {
   "cell_type": "markdown",
   "metadata": {},
   "source": [
    "# Training"
   ]
  },
  {
   "cell_type": "code",
   "execution_count": 10,
   "metadata": {},
   "outputs": [],
   "source": [
    "def second_order_vertibi(emission_dict, transition_dict, transition_count, states, sentence, is_preprocessed):\n",
    "    # Helper functions\n",
    "    a = lambda t, u, v: get_transition_params(transition_dict, transition_count, t, u, v)\n",
    "    b = lambda state, obs: get_emission_params_fixed(emission_dict, state, obs, k=0.5)\n",
    "    \n",
    "    # Add all possible state combinations\n",
    "    all_states = set()\n",
    "    for u in states:\n",
    "        for v in states:\n",
    "            all_states.add((u, v))\n",
    "    \n",
    "    proc_sent = sentence\n",
    "    if not is_preprocessed:\n",
    "        training_set_words = obtain_all_obs(emission_dict)\n",
    "        proc_sent = preprocess_sentence(sentence, training_set_words)\n",
    "    \n",
    "    n = len(proc_sent) + 2\n",
    "    \n",
    "    # Pi Table\n",
    "    P = [{state: 0 for state in all_states} for x in range(n)]\n",
    "    \n",
    "    # Backtrace Table\n",
    "    B = [{state: 0 for state in all_states} for x in range(n)]\n",
    "    \n",
    "    # Base case\n",
    "    P[0][('PREVSTART', 'START')] = 1\n",
    "    \n",
    "    # Recursive forward step\n",
    "    for j in range(1, n - 1):\n",
    "        x = proc_sent[j - 1]\n",
    "\n",
    "        for v in states:  # Current state\n",
    "            for u in states:  # Previous state\n",
    "                for t in states: # Previous previous state\n",
    "                    p = P[j - 1][(t,u)] * a(t, u, v) * b(v, x)\n",
    "                    if p > P[j][(u, v)]:\n",
    "                        P[j][(u, v)] = p # Update probability\n",
    "                        B[j][(u, v)] = t # Update backpointer\n",
    "\n",
    "    \n",
    "    # Termination\n",
    "    j = n - 1\n",
    "    v = 'STOP'\n",
    "    for u in states:\n",
    "        for t in states:\n",
    "            p = P[j - 1][(t, u)] * a(t, u, v)\n",
    "            if p > P[j][(u, v)]:\n",
    "                P[j][(u, v)] = p\n",
    "                B[j][(u, v)] = t\n",
    "    \n",
    "\n",
    "    # Backtrace\n",
    "    state_combi = max(P[n - 1], key=P[n - 1].get)\n",
    "    state_seq = []\n",
    "    for i in range(n - 1, 0, -1):\n",
    "        prev_state = B[i][state_combi]\n",
    "        if isinstance(prev_state, str): # Check if previous state is of type str\n",
    "            state_seq.append(state_combi[1])\n",
    "            state_combi = (prev_state, state_combi[0])\n",
    "        else: # No possible transition to START\n",
    "            state_seq = ['O'] * n\n",
    "            break\n",
    "    state_seq = state_seq[::-1][:-1]  # reverse and drop STOP\n",
    "    \n",
    "    return P, B, state_seq"
   ]
  },
  {
   "cell_type": "markdown",
   "metadata": {},
   "source": [
    "# Testing function"
   ]
  },
  {
   "cell_type": "code",
   "execution_count": 8,
   "metadata": {},
   "outputs": [
    {
     "name": "stdout",
     "output_type": "stream",
     "text": [
      "['B-NP', 'B-VP', 'B-SBAR', 'B-NP', 'I-NP', 'I-NP', 'I-NP', 'B-VP', 'B-ADJP', 'I-ADJP', 'B-NP', 'I-NP', 'B-PP', 'B-NP', 'I-NP', 'I-NP', 'O']\n"
     ]
    }
   ],
   "source": [
    "train_file = '../dataset/EN/train'\n",
    "emission_dict = train_emission(train_file)\n",
    "transition_dict, transition_count, states = train_transition(train_file)\n",
    "sentence = \"He added that the stress-related compensation claims is about twice the average for all injury claims .\"\n",
    "sentence = sentence.split(' ')\n",
    "\n",
    "_, _, seq = second_order_vertibi(emission_dict, transition_dict, transition_count, states, sentence, is_preprocessed=False)\n",
    "print(seq)"
   ]
  },
  {
   "cell_type": "markdown",
   "metadata": {},
   "source": [
    "# Evaluation on dev.in"
   ]
  },
  {
   "cell_type": "code",
   "execution_count": null,
   "metadata": {
    "scrolled": true
   },
   "outputs": [
    {
     "data": {
      "application/vnd.jupyter.widget-view+json": {
       "model_id": "b8520e7ee2d645068379af723fe08d14",
       "version_major": 2,
       "version_minor": 0
      },
      "text/plain": [
       "HBox(children=(FloatProgress(value=0.0, max=3.0), HTML(value='')))"
      ]
     },
     "metadata": {},
     "output_type": "display_data"
    },
    {
     "name": "stdout",
     "output_type": "stream",
     "text": [
      "Evaluating on EN.\n"
     ]
    },
    {
     "data": {
      "application/vnd.jupyter.widget-view+json": {
       "model_id": "846daa7f68e04f9c84d08f78c9d843b5",
       "version_major": 2,
       "version_minor": 0
      },
      "text/plain": [
       "HBox(children=(FloatProgress(value=0.0, max=27225.0), HTML(value='')))"
      ]
     },
     "metadata": {},
     "output_type": "display_data"
    }
   ],
   "source": [
    "sets = ['EN', 'SG', 'CN']\n",
    "\n",
    "for dataset in tqdm(sets):\n",
    "    \n",
    "    print(f\"Evaluating on {dataset}.\")\n",
    "    \n",
    "    in_file = f\"../dataset/{dataset}/dev.in\"\n",
    "    train_file = f\"../dataset/{dataset}/train\"\n",
    "    out_file = f\"../dataset/{dataset}/dev.p5.out\"\n",
    "    \n",
    "    # Train\n",
    "    emission_dict = train_emission(train_file)\n",
    "    transition_dict, transition_count, states = train_transition(train_file)\n",
    "    \n",
    "    # Obtain all distinct words in Training Set\n",
    "    training_set_words = obtain_all_obs(emission_dict)\n",
    "    \n",
    "    # Create file handler to write to /dev.p5.out\n",
    "    outf_h = open(out_file, \"w\", encoding=\"utf8\")\n",
    "    \n",
    "    # Read in file\n",
    "    with open(in_file, encoding=\"utf8\") as f:\n",
    "        lines = f.readlines()\n",
    "        \n",
    "    sent = [] # initialise array to store 1 sentence at a time.\n",
    "    for word in tqdm(lines):\n",
    "        \n",
    "        if word != \"\\n\":\n",
    "            sent.append(word.strip())\n",
    "            \n",
    "        # We reached end of sentence - time to predict sentence's sequence of states (aka tags)\n",
    "        else:\n",
    "            # preprocess sentence (change unknown words to \"#UNK#\")\n",
    "            sent_proc = preprocess_sentence(sent, training_set_words)\n",
    "            # obtain processed sentence's predicted state seq (list of corresponding predicted states for each word in sent)\n",
    "            _, _, sent_state_sequence = second_order_vertibi(emission_dict, transition_dict, transition_count, states, sent_proc, is_preprocessed=True)\n",
    "            \n",
    "            for word, state in zip(sent, sent_state_sequence):\n",
    "                outf_h.write(word + ' ' + state)\n",
    "                outf_h.write(\"\\n\") # newline for each word\n",
    "            outf_h.write(\"\\n\") # another newline when end of sentence\n",
    "\n",
    "            # Reset sentence list\n",
    "            sent = []\n",
    "            \n",
    "    outf_h.close()  "
   ]
  },
  {
   "cell_type": "markdown",
   "metadata": {},
   "source": [
    "# Running EvalScript"
   ]
  },
  {
   "cell_type": "code",
   "execution_count": null,
   "metadata": {},
   "outputs": [],
   "source": [
    "%cd ../EvalScript"
   ]
  },
  {
   "cell_type": "code",
   "execution_count": null,
   "metadata": {},
   "outputs": [],
   "source": [
    "datasets = ['EN', 'SG', 'CN']\n",
    "\n",
    "for st in datasets:\n",
    "    gold = f\"../dataset/{st}/dev.out\"\n",
    "    pred = f\"../dataset/{st}/dev.p5.out\"\n",
    "    print(st)\n",
    "    !python evalResult.py $gold $pred\n",
    "    print(\"=\" * 20, end=\"\\n\\n\")"
   ]
  },
  {
   "cell_type": "code",
   "execution_count": null,
   "metadata": {},
   "outputs": [],
   "source": []
  }
 ],
 "metadata": {
  "kernelspec": {
   "display_name": "Python 3",
   "language": "python",
   "name": "python3"
  },
  "language_info": {
   "codemirror_mode": {
    "name": "ipython",
    "version": 3
   },
   "file_extension": ".py",
   "mimetype": "text/x-python",
   "name": "python",
   "nbconvert_exporter": "python",
   "pygments_lexer": "ipython3",
   "version": "3.8.3"
  }
 },
 "nbformat": 4,
 "nbformat_minor": 4
}
