{
 "cells": [
  {
   "cell_type": "code",
   "execution_count": 1,
   "metadata": {},
   "outputs": [],
   "source": [
    "from tqdm.auto import tqdm\n",
    "import numpy as np"
   ]
  },
  {
   "cell_type": "markdown",
   "metadata": {},
   "source": [
    "# Emissions\n",
    "Copied from part 2"
   ]
  },
  {
   "cell_type": "code",
   "execution_count": 2,
   "metadata": {},
   "outputs": [],
   "source": [
    "def train_emission(filename):\n",
    "    \"\"\"\n",
    "    Returns - a dictionary containing emission parameters\n",
    "    \"\"\"\n",
    "    with open(filename, encoding=\"utf8\") as f:\n",
    "        lines = f.readlines()\n",
    "    \n",
    "    # for each state y, keep track of each observation count i.e. count (y -> x)\n",
    "    # before eg: {state1: {obs1: 1, obs2: 5}, state2: {obs1: 4}}\n",
    "    emission_dict = {}\n",
    "    \n",
    "    # update emission_dict for state with count(y -> x) = 0\n",
    "    # after eg: {state1: {obs1: 1, obs2: 5}, state2: {obs1: 4, obs2: 0}}\n",
    "    observations = set()\n",
    "    \n",
    "    for line in lines:\n",
    "        split_line = line.split()\n",
    "        \n",
    "        # process only valid lines\n",
    "        if len(split_line) == 2:\n",
    "            obs, state = split_line[0], split_line[1]\n",
    "            observations.add(obs)\n",
    "            \n",
    "            if state not in emission_dict:\n",
    "                emission_dict[state] = {}\n",
    "                \n",
    "            if obs not in emission_dict[state]:\n",
    "                emission_dict[state][obs] = 1\n",
    "            else:\n",
    "                emission_dict[state][obs] += 1\n",
    "\n",
    "    for k, v in emission_dict.items():\n",
    "        for obs in observations:\n",
    "            if obs not in v:\n",
    "                emission_dict[k][obs] = 0\n",
    "    \n",
    "    return emission_dict"
   ]
  },
  {
   "cell_type": "code",
   "execution_count": 3,
   "metadata": {},
   "outputs": [],
   "source": [
    "def get_emission_params_fixed(emission_dict, state, obs, k=0.5):\n",
    "    \n",
    "    if state not in emission_dict:\n",
    "        return 0\n",
    "    \n",
    "    state_data = emission_dict[state]\n",
    "    count_y = sum(state_data.values()) # count(y)\n",
    "    \n",
    "    if obs == \"#UNK#\":\n",
    "        count_y_to_x = k\n",
    "    else:\n",
    "        count_y_to_x = state_data[obs] # count(y -> x)\n",
    "    \n",
    "    return count_y_to_x / (count_y + k)"
   ]
  },
  {
   "cell_type": "markdown",
   "metadata": {},
   "source": [
    "# Transitions\n",
    "Function is changed from previous parts to count for transitions from t -> u -> v"
   ]
  },
  {
   "cell_type": "code",
   "execution_count": 4,
   "metadata": {},
   "outputs": [],
   "source": [
    "def train_transition(filename):\n",
    "    \"\"\"\n",
    "    Returns - 2 dictionaries containing transition parameters and a set of all unique states\n",
    "    \n",
    "    \"\"\"\n",
    "    with open(filename, encoding=\"utf8\") as f:\n",
    "        lines = f.readlines()\n",
    "    \n",
    "    # Store all set of 3 state transitions\n",
    "    # eg: {(PREVSTART, START, state1): 2, (PREVSTART, START, state2): 3, ...}\n",
    "    transition_dict = {}\n",
    "\n",
    "    states = set()\n",
    "    states.add('STOP')\n",
    "    states.add('PREVSTART')\n",
    "    states.add('START')\n",
    "    \n",
    "    prev_prev_state = 'PREVSTART'\n",
    "    prev_state = 'START'\n",
    "        \n",
    "    for line in lines:\n",
    "        split_line = line.split()\n",
    "                \n",
    "        # Start new sequence\n",
    "        if len(split_line) < 2:\n",
    "            if (prev_prev_state, prev_state, 'STOP') not in transition_dict.keys():\n",
    "                transition_dict[(prev_prev_state, prev_state, 'STOP')] = 1\n",
    "            else:\n",
    "                transition_dict[(prev_prev_state, prev_state, 'STOP')] += 1\n",
    "            prev_prev_state = 'PREVSTART'\n",
    "            prev_state = 'START'\n",
    "\n",
    "        # Processing the current sequence\n",
    "        elif len(split_line) == 2:\n",
    "            curr_state = split_line[1]\n",
    "            states.add(curr_state)\n",
    "            \n",
    "            if (prev_prev_state, prev_state, curr_state) not in transition_dict.keys():\n",
    "                transition_dict[(prev_prev_state, prev_state, curr_state)] = 1\n",
    "            \n",
    "            else:\n",
    "                transition_dict[(prev_prev_state, prev_state, curr_state)] += 1\n",
    "            \n",
    "            prev_prev_state = prev_state\n",
    "            prev_state = curr_state\n",
    "            \n",
    "    \n",
    "    # Store all transition counts from state t to u\n",
    "    transition_count = {}\n",
    "    \n",
    "    for (t, u ,v), count in transition_dict.items():\n",
    "        if (t, u) not in transition_count.keys():\n",
    "            transition_count[(t, u)] = count\n",
    "        else:\n",
    "            transition_count[(t, u)] += count\n",
    "    \n",
    "    return transition_dict, transition_count, states"
   ]
  },
  {
   "cell_type": "code",
   "execution_count": 5,
   "metadata": {},
   "outputs": [],
   "source": [
    "def get_transition_params(transition_dict, transition_count, t, u, v):\n",
    "    \n",
    "    if (t, u, v) not in transition_dict.keys():\n",
    "        return 0\n",
    "    \n",
    "    count_t_u_v = transition_dict[(t, u ,v)]\n",
    "    count_t_u = transition_count[(t, u)]\n",
    "            \n",
    "    return count_t_u_v / count_t_u"
   ]
  },
  {
   "cell_type": "markdown",
   "metadata": {},
   "source": [
    "## Helper functions"
   ]
  },
  {
   "cell_type": "code",
   "execution_count": 6,
   "metadata": {},
   "outputs": [],
   "source": [
    "def obtain_all_obs(emission_dict):\n",
    "    \"\"\"\n",
    "    Obtain all distinct observations words in the emission_dict.\n",
    "    Purpose: This helps us identify words in Test Set that do not exist in the Training Set (or the emission_dict)\n",
    "    Returns - Set of Strings.\n",
    "    \"\"\"\n",
    "    all_observations = set()\n",
    "    \n",
    "    for s_to_obs_dict in emission_dict.values():\n",
    "        for obs in s_to_obs_dict.keys():\n",
    "            all_observations.add(obs)\n",
    "            \n",
    "    return all_observations\n",
    "\n",
    "def preprocess_sentence(sentence, training_set_words):\n",
    "    \"\"\"\n",
    "    sentence - a list of Strings (words or observations)\n",
    "    Returns - a list of Strings, where Strings not in training_set_words are replaced by \"#UNK#\"\n",
    "    \"\"\"\n",
    "    return [ word if word in training_set_words else \"#UNK#\" for word in sentence ]\n",
    "\n",
    "def log(m):\n",
    "    if isinstance(m, float) or isinstance(m, int):\n",
    "        return -np.inf if m == 0 else np.log(m)\n",
    "    \n",
    "    m = np.clip(m, 1e-32, None)\n",
    "    x = np.log(m)\n",
    "    \n",
    "    x[x <= np.log(1e-32)] = -np.inf\n",
    "    \n",
    "    return x"
   ]
  },
  {
   "cell_type": "markdown",
   "metadata": {},
   "source": [
    "# Training"
   ]
  },
  {
   "cell_type": "code",
   "execution_count": 36,
   "metadata": {},
   "outputs": [],
   "source": [
    "def second_order_vertibi(emission_dict, transition_dict, transition_count, states, sentence, is_preprocessed):\n",
    "    # Helper functions\n",
    "    a = lambda t, u, v: get_transition_params(transition_dict, transition_count, t, u, v)\n",
    "    b = lambda state, obs: get_emission_params_fixed(emission_dict, state, obs, k=0.5)\n",
    "    \n",
    "    # Add all possible state combinations\n",
    "    all_states = set()\n",
    "    for u in states:\n",
    "        for v in states:\n",
    "            all_states.add((u, v))\n",
    "            \n",
    "    all_states = list(all_states)\n",
    "    \n",
    "    proc_sent = sentence\n",
    "    if not is_preprocessed:\n",
    "        training_set_words = obtain_all_obs(emission_dict)\n",
    "        proc_sent = preprocess_sentence(sentence, training_set_words)\n",
    "    proc_sent = [\"start\"] + proc_sent + [\"stop\"]\n",
    "    \n",
    "    n = len(proc_sent)\n",
    "    \n",
    "    # Pi Table\n",
    "#     P = [{state: -np.inf for state in all_states} for x in range(n)]\n",
    "    P = np.ones((n, len(all_states))) * -np.inf\n",
    "    \n",
    "    # Backtrace Table\n",
    "#     B = [{state: None for state in all_states} for x in range(n)]\n",
    "    B = [[ None for x in all_states ] for y in range(n)]\n",
    "    \n",
    "    # Base case is log(1) = 0\n",
    "#     P[0][('PREVSTART', 'START')] = 0\n",
    "    \n",
    "    # Base case at j = 1\n",
    "    trans = np.array([a('PREVSTART', 'START', v) for u, v in all_states])\n",
    "    emis = np.array([b(v, proc_sent[1]) for u, v in all_states])\n",
    "    P[1, :] = log(trans) + log(emis)\n",
    "    B[1] = ['PREVSTART' for row in B[1]] # t is PREVSTART at j = 1\n",
    "    \n",
    "    # Base case at j = 2\n",
    "    trans = np.array([a('START', u, v) for u, v in all_states])\n",
    "    emis = np.array([b(v, proc_sent[1]) for u, v in all_states])\n",
    "    P[2, :] = log(trans) + log(emis)\n",
    "    B[2] = ['START' for row in B[2]]\n",
    "    \n",
    "    # Recursive forward step\n",
    "    for j in range(3, n - 1):\n",
    "        x = proc_sent[j]\n",
    "        for t, _ in all_states:\n",
    "            for row_no, (u , v) in enumerate(all_states):\n",
    "                transitions = np.array([a(t,u,v) for t, _ in all_states])\n",
    "                prev_scores = P[j-1, :] + log(transitions) + log(b(v,x))\n",
    "                top = prev_scores.argmax()\n",
    "                P[j,row_no] = prev_scores[top]\n",
    "                B[j][row_no] = all_states[top][0] # store t\n",
    "                if P[j,row_no] == -np.inf:\n",
    "                    B[j][row_no] = None\n",
    "#         for v in states:  # Current state\n",
    "#             for t, u in all_states: # All state combis, t is the grandfather and u is the parent\n",
    "#                 p = P[j - 1][(t,u)] + log(a(t, u, v)) + log(b(v, x))\n",
    "#                 if p > P[j][(u, v)]:\n",
    "#                     P[j][(u, v)] = p # Update probability [{(u,v): p,... }, ...]\n",
    "#                     B[j][(u, v)] = t # Update backpointer [{(u,v): t, ...}, ...]\n",
    "    \n",
    "    # Termination\n",
    "#     j = n - 1\n",
    "#     v = 'STOP'\n",
    "#     for t, u in list(all_states):\n",
    "#         p = P[j - 1][(t, u)] + log(a(t, u, v))\n",
    "#         if p > P[j][(u, v)]:\n",
    "#             P[j][(u, v)] = p # Update probability\n",
    "#             B[j][(u, v)] = t # Update backpointer\n",
    "    \n",
    "    # Termination: j=n-1. Note that proc_sent[n-1] give us the last word in sentence.\n",
    "    j = n - 1\n",
    "    transitions = np.array([ a(t, u, \"STOP\") for t,u in all_states ])\n",
    "    previous_scores = P[j-1] + log(transitions)\n",
    "    u, v = all_states[previous_scores.argmax()]\n",
    "\n",
    "    assert(v == 'STOP')\n",
    "    return\n",
    "\n",
    "    # Backtrace\n",
    "    \n",
    "    state_seq = []\n",
    "    for j in range(n-1, 0 ,-1):\n",
    "        uv_row_no = all_states.index((u, v))\n",
    "        t = B[j][uv_row_no]\n",
    "        \n",
    "        v = state_seq[-1]\n",
    "        u = t\n",
    "        \n",
    "        t = B[j][uv_row_no]\n",
    "        \n",
    "        if t == None:\n",
    "            return ['O'] * (n-2)\n",
    "            \n",
    "        state_seq.append(u)\n",
    "        \n",
    "    state_seq = state_seq[::-1][1:-1]  # reverse and drop STOP\n",
    "    return state_seq\n",
    "        \n",
    "    # Backtrace\n",
    "#     u, v = max(P[n - 1], key=P[n - 1].get) # argmax (u, v)\n",
    "#     state_seq = []\n",
    "#     for i in range(n - 1, 0, -1):\n",
    "#         t = B[i][(u, v)]\n",
    "#         if t != None:       # Check if t is not None\n",
    "#             state_seq.append(v) # v\n",
    "#             u, v = t, u     # set t, u as the next u, v\n",
    "#         else:               # No possible transition to START\n",
    "#             state_seq = ['O'] * n-2\n",
    "#             break\n",
    "#     state_seq = state_seq[::-1][:-1]  # reverse and drop STOP\n",
    "    \n",
    "    \n",
    "    \n",
    "    \n",
    "    return P, B, state_seq"
   ]
  },
  {
   "cell_type": "markdown",
   "metadata": {},
   "source": [
    "# Testing function"
   ]
  },
  {
   "cell_type": "code",
   "execution_count": 37,
   "metadata": {},
   "outputs": [
    {
     "ename": "AssertionError",
     "evalue": "",
     "output_type": "error",
     "traceback": [
      "\u001b[1;31m---------------------------------------------------------------------------\u001b[0m",
      "\u001b[1;31mAssertionError\u001b[0m                            Traceback (most recent call last)",
      "\u001b[1;32m<ipython-input-37-192d18b81f18>\u001b[0m in \u001b[0;36m<module>\u001b[1;34m\u001b[0m\n\u001b[0;32m      6\u001b[0m \u001b[0msentence\u001b[0m \u001b[1;33m=\u001b[0m \u001b[0msentence\u001b[0m\u001b[1;33m.\u001b[0m\u001b[0msplit\u001b[0m\u001b[1;33m(\u001b[0m\u001b[1;34m' '\u001b[0m\u001b[1;33m)\u001b[0m\u001b[1;33m\u001b[0m\u001b[1;33m\u001b[0m\u001b[0m\n\u001b[0;32m      7\u001b[0m \u001b[1;33m\u001b[0m\u001b[0m\n\u001b[1;32m----> 8\u001b[1;33m \u001b[0mseq\u001b[0m \u001b[1;33m=\u001b[0m \u001b[0msecond_order_vertibi\u001b[0m\u001b[1;33m(\u001b[0m\u001b[0memission_dict\u001b[0m\u001b[1;33m,\u001b[0m \u001b[0mtransition_dict\u001b[0m\u001b[1;33m,\u001b[0m \u001b[0mtransition_count\u001b[0m\u001b[1;33m,\u001b[0m \u001b[0mstates\u001b[0m\u001b[1;33m,\u001b[0m \u001b[0msentence\u001b[0m\u001b[1;33m,\u001b[0m \u001b[0mis_preprocessed\u001b[0m\u001b[1;33m=\u001b[0m\u001b[1;32mFalse\u001b[0m\u001b[1;33m)\u001b[0m\u001b[1;33m\u001b[0m\u001b[1;33m\u001b[0m\u001b[0m\n\u001b[0m\u001b[0;32m      9\u001b[0m \u001b[0mseq\u001b[0m\u001b[1;33m\u001b[0m\u001b[1;33m\u001b[0m\u001b[0m\n",
      "\u001b[1;32m<ipython-input-36-23e4bff111bb>\u001b[0m in \u001b[0;36msecond_order_vertibi\u001b[1;34m(emission_dict, transition_dict, transition_count, states, sentence, is_preprocessed)\u001b[0m\n\u001b[0;32m     77\u001b[0m     \u001b[0mu\u001b[0m\u001b[1;33m,\u001b[0m \u001b[0mv\u001b[0m \u001b[1;33m=\u001b[0m \u001b[0mall_states\u001b[0m\u001b[1;33m[\u001b[0m\u001b[0mprevious_scores\u001b[0m\u001b[1;33m.\u001b[0m\u001b[0margmax\u001b[0m\u001b[1;33m(\u001b[0m\u001b[1;33m)\u001b[0m\u001b[1;33m]\u001b[0m\u001b[1;33m\u001b[0m\u001b[1;33m\u001b[0m\u001b[0m\n\u001b[0;32m     78\u001b[0m \u001b[1;33m\u001b[0m\u001b[0m\n\u001b[1;32m---> 79\u001b[1;33m     \u001b[1;32massert\u001b[0m\u001b[1;33m(\u001b[0m\u001b[0mv\u001b[0m \u001b[1;33m==\u001b[0m \u001b[1;34m'STOP'\u001b[0m\u001b[1;33m)\u001b[0m\u001b[1;33m\u001b[0m\u001b[1;33m\u001b[0m\u001b[0m\n\u001b[0m\u001b[0;32m     80\u001b[0m     \u001b[1;32mreturn\u001b[0m\u001b[1;33m\u001b[0m\u001b[1;33m\u001b[0m\u001b[0m\n\u001b[0;32m     81\u001b[0m \u001b[1;33m\u001b[0m\u001b[0m\n",
      "\u001b[1;31mAssertionError\u001b[0m: "
     ]
    }
   ],
   "source": [
    "train_file = '../dataset/EN/train'\n",
    "emission_dict = train_emission(train_file)\n",
    "transition_dict, transition_count, states = train_transition(train_file)\n",
    "sentence = 'He added that the stress-related compensation claims is about twice the average for all injury claims .'\n",
    "\n",
    "sentence = sentence.split(' ')\n",
    "\n",
    "seq = second_order_vertibi(emission_dict, transition_dict, transition_count, states, sentence, is_preprocessed=False)\n",
    "seq"
   ]
  },
  {
   "cell_type": "code",
   "execution_count": 24,
   "metadata": {},
   "outputs": [
    {
     "data": {
      "text/plain": [
       "29"
      ]
     },
     "execution_count": 24,
     "metadata": {},
     "output_type": "execute_result"
    }
   ],
   "source": [
    "len(sentence)"
   ]
  },
  {
   "cell_type": "markdown",
   "metadata": {},
   "source": [
    "# Evaluation on dev.in"
   ]
  },
  {
   "cell_type": "code",
   "execution_count": null,
   "metadata": {
    "scrolled": true
   },
   "outputs": [
    {
     "data": {
      "application/vnd.jupyter.widget-view+json": {
       "model_id": "b8520e7ee2d645068379af723fe08d14",
       "version_major": 2,
       "version_minor": 0
      },
      "text/plain": [
       "HBox(children=(FloatProgress(value=0.0, max=3.0), HTML(value='')))"
      ]
     },
     "metadata": {},
     "output_type": "display_data"
    },
    {
     "name": "stdout",
     "output_type": "stream",
     "text": [
      "Evaluating on EN.\n"
     ]
    },
    {
     "data": {
      "application/vnd.jupyter.widget-view+json": {
       "model_id": "846daa7f68e04f9c84d08f78c9d843b5",
       "version_major": 2,
       "version_minor": 0
      },
      "text/plain": [
       "HBox(children=(FloatProgress(value=0.0, max=27225.0), HTML(value='')))"
      ]
     },
     "metadata": {},
     "output_type": "display_data"
    }
   ],
   "source": [
    "sets = ['EN', 'SG', 'CN']\n",
    "\n",
    "for dataset in tqdm(sets):\n",
    "    \n",
    "    print(f\"Evaluating on {dataset}.\")\n",
    "    \n",
    "    in_file = f\"../dataset/{dataset}/dev.in\"\n",
    "    train_file = f\"../dataset/{dataset}/train\"\n",
    "    out_file = f\"../dataset/{dataset}/dev.p5.out\"\n",
    "    \n",
    "    # Train\n",
    "    emission_dict = train_emission(train_file)\n",
    "    transition_dict, transition_count, states = train_transition(train_file)\n",
    "    \n",
    "    # Obtain all distinct words in Training Set\n",
    "    training_set_words = obtain_all_obs(emission_dict)\n",
    "    \n",
    "    # Create file handler to write to /dev.p5.out\n",
    "    outf_h = open(out_file, \"w\", encoding=\"utf8\")\n",
    "    \n",
    "    # Read in file\n",
    "    with open(in_file, encoding=\"utf8\") as f:\n",
    "        lines = f.readlines()\n",
    "        \n",
    "    sent = [] # initialise array to store 1 sentence at a time.\n",
    "    for word in tqdm(lines):\n",
    "        \n",
    "        if word != \"\\n\":\n",
    "            sent.append(word.strip())\n",
    "            \n",
    "        # We reached end of sentence - time to predict sentence's sequence of states (aka tags)\n",
    "        else:\n",
    "            # preprocess sentence (change unknown words to \"#UNK#\")\n",
    "            sent_proc = preprocess_sentence(sent, training_set_words)\n",
    "            # obtain processed sentence's predicted state seq (list of corresponding predicted states for each word in sent)\n",
    "            _, _, sent_state_sequence = second_order_vertibi(emission_dict, transition_dict, transition_count, states, sent_proc, is_preprocessed=True)\n",
    "            \n",
    "            for word, state in zip(sent, sent_state_sequence):\n",
    "                outf_h.write(word + ' ' + state)\n",
    "                outf_h.write(\"\\n\") # newline for each word\n",
    "            outf_h.write(\"\\n\") # another newline when end of sentence\n",
    "\n",
    "            # Reset sentence list\n",
    "            sent = []\n",
    "            \n",
    "    outf_h.close()  "
   ]
  },
  {
   "cell_type": "markdown",
   "metadata": {},
   "source": [
    "# Running EvalScript"
   ]
  },
  {
   "cell_type": "code",
   "execution_count": null,
   "metadata": {},
   "outputs": [],
   "source": [
    "%cd ../EvalScript"
   ]
  },
  {
   "cell_type": "code",
   "execution_count": null,
   "metadata": {},
   "outputs": [],
   "source": [
    "datasets = ['EN', 'SG', 'CN']\n",
    "\n",
    "for st in datasets:\n",
    "    gold = f\"../dataset/{st}/dev.out\"\n",
    "    pred = f\"../dataset/{st}/dev.p5.out\"\n",
    "    print(st)\n",
    "    !python evalResult.py $gold $pred\n",
    "    print(\"=\" * 20, end=\"\\n\\n\")"
   ]
  },
  {
   "cell_type": "code",
   "execution_count": null,
   "metadata": {},
   "outputs": [],
   "source": []
  }
 ],
 "metadata": {
  "kernelspec": {
   "display_name": "Python 3",
   "language": "python",
   "name": "python3"
  },
  "language_info": {
   "codemirror_mode": {
    "name": "ipython",
    "version": 3
   },
   "file_extension": ".py",
   "mimetype": "text/x-python",
   "name": "python",
   "nbconvert_exporter": "python",
   "pygments_lexer": "ipython3",
   "version": "3.8.3"
  }
 },
 "nbformat": 4,
 "nbformat_minor": 4
}
