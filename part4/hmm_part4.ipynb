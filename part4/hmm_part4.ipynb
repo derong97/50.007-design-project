{
 "cells": [
  {
   "cell_type": "code",
   "execution_count": 1,
   "metadata": {
    "ExecuteTime": {
     "end_time": "2020-12-01T21:10:40.947159Z",
     "start_time": "2020-12-01T21:10:40.311948Z"
    }
   },
   "outputs": [],
   "source": [
    "import pandas as pd\n",
    "from tqdm.auto import tqdm\n",
    "import numpy as np"
   ]
  },
  {
   "cell_type": "markdown",
   "metadata": {},
   "source": [
    "# Emission\n",
    "Copied from part 3"
   ]
  },
  {
   "cell_type": "code",
   "execution_count": 2,
   "metadata": {
    "ExecuteTime": {
     "end_time": "2020-12-01T21:10:41.802298Z",
     "start_time": "2020-12-01T21:10:41.782297Z"
    }
   },
   "outputs": [],
   "source": [
    "def train_emission(filename):\n",
    "    \"\"\"\n",
    "    Returns - a dictionary containing emission parameters\n",
    "    \"\"\"\n",
    "    with open(filename, encoding=\"utf8\") as f:\n",
    "        lines = f.readlines()\n",
    "    \n",
    "    # for each state y, keep track of each observation count i.e. count (y -> x)\n",
    "    # before eg: {state1: {obs1: 1, obs2: 5}, state2: {obs1: 4}}\n",
    "    emission_dict = {}\n",
    "    \n",
    "    # update emission_dict for state with count(y -> x) = 0\n",
    "    # after eg: {state1: {obs1: 1, obs2: 5}, state2: {obs1: 4, obs2: 0}}\n",
    "    observations = set()\n",
    "    \n",
    "    for line in lines:\n",
    "        split_line = line.split()\n",
    "        \n",
    "        # process only valid lines\n",
    "        if len(split_line) == 2:\n",
    "            obs, state = split_line[0], split_line[1]\n",
    "            \n",
    "            observations.add(obs)\n",
    "            \n",
    "            if state not in emission_dict:\n",
    "                emission_dict[state] = {}\n",
    "                \n",
    "            if obs not in emission_dict[state]:\n",
    "                emission_dict[state][obs] = 1\n",
    "            else:\n",
    "                emission_dict[state][obs] += 1\n",
    "\n",
    "    for k, v in emission_dict.items():\n",
    "        for obs in observations:\n",
    "            if obs not in v:\n",
    "                emission_dict[k][obs] = 0\n",
    "    \n",
    "    return emission_dict"
   ]
  },
  {
   "cell_type": "code",
   "execution_count": 3,
   "metadata": {
    "ExecuteTime": {
     "end_time": "2020-12-01T21:10:42.393961Z",
     "start_time": "2020-12-01T21:10:42.375335Z"
    }
   },
   "outputs": [],
   "source": [
    "def get_emission_params_fixed(emission_dict, state, obs, k=0.5):\n",
    "    \n",
    "    if state not in emission_dict:\n",
    "        raise Exception(\"State not in emission dict\")\n",
    "    \n",
    "    state_data = emission_dict[state]\n",
    "    count_y = sum(state_data.values()) # count(y)\n",
    "    \n",
    "    if obs == \"#UNK#\":\n",
    "        count_y_to_x = k\n",
    "    else:\n",
    "        count_y_to_x = state_data[obs] # count(y -> x)\n",
    "    \n",
    "    return count_y_to_x / (count_y + k)"
   ]
  },
  {
   "cell_type": "markdown",
   "metadata": {},
   "source": [
    "# Transitions\n",
    "Copied from part 3"
   ]
  },
  {
   "cell_type": "code",
   "execution_count": 4,
   "metadata": {
    "ExecuteTime": {
     "end_time": "2020-12-01T21:10:43.259295Z",
     "start_time": "2020-12-01T21:10:43.238296Z"
    }
   },
   "outputs": [],
   "source": [
    "def train_transition(filename):\n",
    "    \"\"\"\n",
    "    Returns - a dictionary containing transition parameters\n",
    "    \"\"\"\n",
    "    with open(filename, encoding=\"utf8\") as f:\n",
    "        lines = f.readlines()\n",
    "    \n",
    "    # for each state u, keep track of each state count i.e. count (u,v)\n",
    "    # before eg: {START: {y1: 1, y2: 5}, y1: {y1: 3, y2: 4, STOP: 1}, y2: {y1: 1, STOP: 3}}\n",
    "    transition_dict = {}\n",
    "    \n",
    "    # after eg: {START: {y1: 1, y2: 5, STOP: 0}, y1: {y1: 3, y2: 4, STOP: 1}, y2: {y1: 1, y2: 0, STOP: 3}}\n",
    "    states = set()\n",
    "    states.add('STOP')\n",
    "    \n",
    "    prev_state = 'START'\n",
    "        \n",
    "    for line in lines:\n",
    "        split_line = line.split()\n",
    "        \n",
    "        if prev_state not in transition_dict:\n",
    "            transition_dict[prev_state] = {}\n",
    "                \n",
    "        # can only be START or STOP\n",
    "        if len(split_line) < 2:\n",
    "            if 'STOP' not in transition_dict[prev_state]:\n",
    "                transition_dict[prev_state]['STOP'] = 0\n",
    "            \n",
    "            transition_dict[prev_state]['STOP'] += 1\n",
    "            prev_state = 'START'\n",
    "        \n",
    "        # processing the sentence\n",
    "        elif len(split_line) == 2:\n",
    "            curr_state = split_line[1]\n",
    "            states.add(curr_state)\n",
    "           \n",
    "            if curr_state not in transition_dict[prev_state]:\n",
    "                transition_dict[prev_state][curr_state] = 0\n",
    "            \n",
    "            transition_dict[prev_state][curr_state] += 1\n",
    "            prev_state = curr_state\n",
    "    \n",
    "    for k, v in transition_dict.items():\n",
    "        for state in states:\n",
    "            if state not in v:\n",
    "                transition_dict[k][state] = 0\n",
    "    \n",
    "    return transition_dict"
   ]
  },
  {
   "cell_type": "code",
   "execution_count": 5,
   "metadata": {
    "ExecuteTime": {
     "end_time": "2020-12-01T21:10:43.925298Z",
     "start_time": "2020-12-01T21:10:43.910298Z"
    }
   },
   "outputs": [],
   "source": [
    "def get_transition_params(transition_dict, u, v):\n",
    "    \n",
    "    if u not in transition_dict:\n",
    "        raise Exception(\"State u not in transition dict\")\n",
    "        \n",
    "    if v not in transition_dict[u]:\n",
    "        raise Exception(\"State v not in transition dict\")\n",
    "    \n",
    "    state_data = transition_dict[u]\n",
    "    \n",
    "    count_u_to_v = state_data[v] # count(u,v)\n",
    "    count_u = sum(state_data.values()) # count(u)\n",
    "            \n",
    "    return count_u_to_v / count_u"
   ]
  },
  {
   "cell_type": "markdown",
   "metadata": {},
   "source": [
    "# Helper Functions\n",
    "Copied from part 3"
   ]
  },
  {
   "cell_type": "code",
   "execution_count": 6,
   "metadata": {
    "ExecuteTime": {
     "end_time": "2020-12-01T21:10:44.707297Z",
     "start_time": "2020-12-01T21:10:44.695300Z"
    }
   },
   "outputs": [],
   "source": [
    "def obtain_all_obs(emission_dict):\n",
    "    \"\"\"\n",
    "    Obtain all distinct observations words in the emission_dict.\n",
    "    Purpose: This helps us identify words in Test Set that do not exist in the Training Set (or the emission_dict)\n",
    "    Returns - Set of Strings.\n",
    "    \"\"\"\n",
    "    all_observations = set()\n",
    "    \n",
    "    for s_to_obs_dict in emission_dict.values():\n",
    "        for obs in s_to_obs_dict.keys():\n",
    "            all_observations.add(obs)\n",
    "            \n",
    "    return all_observations\n",
    "\n",
    "def preprocess_sentence(sentence, training_set_words):\n",
    "    \"\"\"\n",
    "    sentence - a list of Strings (words or observations)\n",
    "    Returns - a list of Strings, where Strings not in training_set_words are replaced by \"#UNK#\"\n",
    "    \"\"\"\n",
    "    return [ word if word in training_set_words else \"#UNK#\" for word in sentence ]"
   ]
  },
  {
   "cell_type": "markdown",
   "metadata": {},
   "source": [
    "# Training"
   ]
  },
  {
   "cell_type": "code",
   "execution_count": 7,
   "metadata": {
    "ExecuteTime": {
     "end_time": "2020-12-01T21:10:45.470300Z",
     "start_time": "2020-12-01T21:10:45.454300Z"
    }
   },
   "outputs": [],
   "source": [
    "def train(filename):\n",
    "    \"\"\"\n",
    "    Returns - A 2-tuple (Dict, Dict): emission and transition parameters\n",
    "    \"\"\"\n",
    "    return train_emission(filename), train_transition(filename)"
   ]
  },
  {
   "cell_type": "markdown",
   "metadata": {},
   "source": [
    "# Testing Grounds. Before writing the actual function."
   ]
  },
  {
   "cell_type": "code",
   "execution_count": 8,
   "metadata": {
    "ExecuteTime": {
     "end_time": "2020-12-01T21:10:46.997819Z",
     "start_time": "2020-12-01T21:10:46.463649Z"
    }
   },
   "outputs": [
    {
     "name": "stdout",
     "output_type": "stream",
     "text": [
      "['The', 'quick', 'brown', 'fox', 'jumps', '.']\n",
      "['The', 'quick', '#UNK#', 'fox', 'jumps', '.']\n",
      "['start', 'The', 'quick', '#UNK#', 'fox', 'jumps', '.', 'stop']\n"
     ]
    }
   ],
   "source": [
    "emission_dict, transition_dict = train('../dataset/EN/train')\n",
    "training_set_words = obtain_all_obs(emission_dict)\n",
    "all_states = list(emission_dict.keys())\n",
    "\n",
    "sentence = \"The quick brown fox jumps .\"\n",
    "sentence = sentence.split(' ')\n",
    "proc_sent = preprocess_sentence(sentence, training_set_words)\n",
    "print(sentence)\n",
    "print(proc_sent)\n",
    "\n",
    "proc_sent = [\"start\"] + proc_sent + [\"stop\"]\n",
    "print(proc_sent)\n",
    "\n",
    "n = len(proc_sent)\n",
    "k = 3\n",
    "\n",
    "# Pi np \n",
    "P = np.zeros( (len(proc_sent), len(all_states), k) ) \n",
    "# Backtrace Table\n",
    "B = [ [ ['-', '-', '-'] for x in all_states ] for y in proc_sent ]"
   ]
  },
  {
   "cell_type": "code",
   "execution_count": 9,
   "metadata": {
    "ExecuteTime": {
     "end_time": "2020-12-01T21:10:47.076604Z",
     "start_time": "2020-12-01T21:10:47.061603Z"
    }
   },
   "outputs": [],
   "source": [
    "a = lambda u, v: get_transition_params(transition_dict, u, v)\n",
    "b = lambda state, obs: get_emission_params_fixed(emission_dict, state, obs, k=0.5)\n",
    "\n",
    "# Base Case at j=1\n",
    "t = np.array([ a('START', v) for v in all_states ])\n",
    "e = np.array([ b(v, proc_sent[1]) for v in all_states ])\n",
    "P[1, :, 0] = t * e\n",
    "P[1, :, 1:] = 0 # There can be no 2nd or 3rd best path when j=1.\n",
    "\n",
    "B[1] = [ [\"START\", '-', '-'] for row in B[1] ]"
   ]
  },
  {
   "cell_type": "code",
   "execution_count": 10,
   "metadata": {
    "ExecuteTime": {
     "end_time": "2020-12-01T21:10:48.108306Z",
     "start_time": "2020-12-01T21:10:48.069299Z"
    }
   },
   "outputs": [],
   "source": [
    "# Recursive Forward Step for j=2 to n-2 (inclusive). Where n = len(proc_sent) => Layer n is the last layer (STOP).\n",
    "# At layer n-1, we perform termination step, as layer n is STOP. \n",
    "# Recall that proc_sent includes 'start' and 'stop'\n",
    "\n",
    "for j in range(2, n-1): # Going right the columns (obs)\n",
    "    x = proc_sent[j]  # Obtain j'th word in the (processed) sentence\n",
    "\n",
    "    for row_no, v in enumerate(all_states): # Going down the rows (states)\n",
    "        transitions = np.array([ a(u, v) for u in all_states ])\n",
    "        \n",
    "        previous_all_scores = (P[j-1, :] * transitions[:, None]).flatten()\n",
    "        topk = previous_all_scores.argsort()[::-1][:k]\n",
    "        P[j,row_no] = previous_all_scores[topk] * b(v,x)\n",
    "        B[j][row_no] = [ all_states[pos // 3] for pos in topk ]"
   ]
  },
  {
   "cell_type": "code",
   "execution_count": 14,
   "metadata": {
    "ExecuteTime": {
     "end_time": "2020-12-01T21:11:28.320311Z",
     "start_time": "2020-12-01T21:11:28.310310Z"
    }
   },
   "outputs": [],
   "source": [
    "# Termination: j=n-1. Note that proc_sent[n-1] give us the last word in sentence.\n",
    "\n",
    "# for row_no, v in enumerate(all_states): # Going down the rows (states)\n",
    "j = n-1\n",
    "transitions = np.array([ a(u, \"STOP\") for u in all_states ])\n",
    "final_topk_scores = (P[j-1] * transitions[:, None]).flatten().argsort()[::-1][:k]\n",
    "\n",
    "# The following line of code gives us the top 3 parent STATES preceding the STOP state. By top 3, means top 3 best score.\n",
    "[ all_states[pos // 3] for pos in final_topk_scores ]"
   ]
  },
  {
   "cell_type": "markdown",
   "metadata": {},
   "source": [
    "# Scratch Code"
   ]
  },
  {
   "cell_type": "code",
   "execution_count": 15,
   "metadata": {
    "ExecuteTime": {
     "end_time": "2020-12-01T21:11:33.936313Z",
     "start_time": "2020-12-01T21:11:33.918311Z"
    }
   },
   "outputs": [
    {
     "data": {
      "text/plain": [
       "['O', 'O', 'O']"
      ]
     },
     "execution_count": 15,
     "metadata": {},
     "output_type": "execute_result"
    }
   ],
   "source": [
    "[ all_states[pos // 3] for pos in final_topk_scores ]"
   ]
  },
  {
   "cell_type": "markdown",
   "metadata": {},
   "source": [
    "To De Rong: The sentence ends in a fullstop. So the fact that we got `['O', 'O', 'O']` for the top k=3 parent node right before the STOP layer is (kinda) promising. Cos fullstop is supposed to have a state symbol of 'O'. "
   ]
  },
  {
   "cell_type": "code",
   "execution_count": 12,
   "metadata": {
    "ExecuteTime": {
     "end_time": "2020-12-01T21:10:57.766718Z",
     "start_time": "2020-12-01T21:10:57.718715Z"
    }
   },
   "outputs": [
    {
     "data": {
      "text/plain": [
       "array([[[0.00000000e+00, 0.00000000e+00, 0.00000000e+00],\n",
       "        [0.00000000e+00, 0.00000000e+00, 0.00000000e+00],\n",
       "        [0.00000000e+00, 0.00000000e+00, 0.00000000e+00],\n",
       "        [0.00000000e+00, 0.00000000e+00, 0.00000000e+00],\n",
       "        [0.00000000e+00, 0.00000000e+00, 0.00000000e+00],\n",
       "        [0.00000000e+00, 0.00000000e+00, 0.00000000e+00],\n",
       "        [0.00000000e+00, 0.00000000e+00, 0.00000000e+00],\n",
       "        [0.00000000e+00, 0.00000000e+00, 0.00000000e+00],\n",
       "        [0.00000000e+00, 0.00000000e+00, 0.00000000e+00],\n",
       "        [0.00000000e+00, 0.00000000e+00, 0.00000000e+00],\n",
       "        [0.00000000e+00, 0.00000000e+00, 0.00000000e+00],\n",
       "        [0.00000000e+00, 0.00000000e+00, 0.00000000e+00],\n",
       "        [0.00000000e+00, 0.00000000e+00, 0.00000000e+00],\n",
       "        [0.00000000e+00, 0.00000000e+00, 0.00000000e+00],\n",
       "        [0.00000000e+00, 0.00000000e+00, 0.00000000e+00],\n",
       "        [0.00000000e+00, 0.00000000e+00, 0.00000000e+00],\n",
       "        [0.00000000e+00, 0.00000000e+00, 0.00000000e+00],\n",
       "        [0.00000000e+00, 0.00000000e+00, 0.00000000e+00],\n",
       "        [0.00000000e+00, 0.00000000e+00, 0.00000000e+00],\n",
       "        [0.00000000e+00, 0.00000000e+00, 0.00000000e+00],\n",
       "        [0.00000000e+00, 0.00000000e+00, 0.00000000e+00]],\n",
       "\n",
       "       [[1.71925374e-02, 0.00000000e+00, 0.00000000e+00],\n",
       "        [0.00000000e+00, 0.00000000e+00, 0.00000000e+00],\n",
       "        [0.00000000e+00, 0.00000000e+00, 0.00000000e+00],\n",
       "        [0.00000000e+00, 0.00000000e+00, 0.00000000e+00],\n",
       "        [0.00000000e+00, 0.00000000e+00, 0.00000000e+00],\n",
       "        [0.00000000e+00, 0.00000000e+00, 0.00000000e+00],\n",
       "        [0.00000000e+00, 0.00000000e+00, 0.00000000e+00],\n",
       "        [2.37680093e-05, 0.00000000e+00, 0.00000000e+00],\n",
       "        [0.00000000e+00, 0.00000000e+00, 0.00000000e+00],\n",
       "        [0.00000000e+00, 0.00000000e+00, 0.00000000e+00],\n",
       "        [0.00000000e+00, 0.00000000e+00, 0.00000000e+00],\n",
       "        [0.00000000e+00, 0.00000000e+00, 0.00000000e+00],\n",
       "        [0.00000000e+00, 0.00000000e+00, 0.00000000e+00],\n",
       "        [0.00000000e+00, 0.00000000e+00, 0.00000000e+00],\n",
       "        [0.00000000e+00, 0.00000000e+00, 0.00000000e+00],\n",
       "        [0.00000000e+00, 0.00000000e+00, 0.00000000e+00],\n",
       "        [0.00000000e+00, 0.00000000e+00, 0.00000000e+00],\n",
       "        [0.00000000e+00, 0.00000000e+00, 0.00000000e+00],\n",
       "        [0.00000000e+00, 0.00000000e+00, 0.00000000e+00],\n",
       "        [0.00000000e+00, 0.00000000e+00, 0.00000000e+00],\n",
       "        [0.00000000e+00, 0.00000000e+00, 0.00000000e+00]],\n",
       "\n",
       "       [[5.25121516e-08, 8.72192026e-10, 0.00000000e+00],\n",
       "        [4.31269602e-07, 0.00000000e+00, 0.00000000e+00],\n",
       "        [0.00000000e+00, 0.00000000e+00, 0.00000000e+00],\n",
       "        [0.00000000e+00, 0.00000000e+00, 0.00000000e+00],\n",
       "        [0.00000000e+00, 0.00000000e+00, 0.00000000e+00],\n",
       "        [0.00000000e+00, 0.00000000e+00, 0.00000000e+00],\n",
       "        [0.00000000e+00, 0.00000000e+00, 0.00000000e+00],\n",
       "        [0.00000000e+00, 0.00000000e+00, 0.00000000e+00],\n",
       "        [0.00000000e+00, 0.00000000e+00, 0.00000000e+00],\n",
       "        [0.00000000e+00, 0.00000000e+00, 0.00000000e+00],\n",
       "        [0.00000000e+00, 0.00000000e+00, 0.00000000e+00],\n",
       "        [0.00000000e+00, 0.00000000e+00, 0.00000000e+00],\n",
       "        [0.00000000e+00, 0.00000000e+00, 0.00000000e+00],\n",
       "        [0.00000000e+00, 0.00000000e+00, 0.00000000e+00],\n",
       "        [0.00000000e+00, 0.00000000e+00, 0.00000000e+00],\n",
       "        [0.00000000e+00, 0.00000000e+00, 0.00000000e+00],\n",
       "        [0.00000000e+00, 0.00000000e+00, 0.00000000e+00],\n",
       "        [0.00000000e+00, 0.00000000e+00, 0.00000000e+00],\n",
       "        [0.00000000e+00, 0.00000000e+00, 0.00000000e+00],\n",
       "        [0.00000000e+00, 0.00000000e+00, 0.00000000e+00],\n",
       "        [0.00000000e+00, 0.00000000e+00, 0.00000000e+00]],\n",
       "\n",
       "       [[2.17183345e-13, 1.60390872e-14, 2.66398605e-16],\n",
       "        [1.60636899e-12, 3.29312860e-13, 5.46966830e-15],\n",
       "        [1.59306724e-12, 1.87347953e-13, 3.11172530e-15],\n",
       "        [9.27262762e-13, 7.22304483e-14, 1.19969986e-15],\n",
       "        [5.05167822e-13, 4.81677341e-14, 8.00034131e-16],\n",
       "        [0.00000000e+00, 0.00000000e+00, 0.00000000e+00],\n",
       "        [1.83542379e-12, 8.28293383e-14, 1.37574040e-15],\n",
       "        [2.05339113e-12, 8.90478919e-14, 1.47902645e-15],\n",
       "        [7.23665300e-13, 4.70445533e-14, 7.81378842e-16],\n",
       "        [0.00000000e+00, 0.00000000e+00, 0.00000000e+00],\n",
       "        [0.00000000e+00, 0.00000000e+00, 0.00000000e+00],\n",
       "        [5.90182390e-14, 2.01401220e-14, 3.34514075e-16],\n",
       "        [0.00000000e+00, 0.00000000e+00, 0.00000000e+00],\n",
       "        [8.77779206e-13, 4.48515610e-14, 7.44954695e-16],\n",
       "        [0.00000000e+00, 0.00000000e+00, 0.00000000e+00],\n",
       "        [0.00000000e+00, 0.00000000e+00, 0.00000000e+00],\n",
       "        [0.00000000e+00, 0.00000000e+00, 0.00000000e+00],\n",
       "        [0.00000000e+00, 0.00000000e+00, 0.00000000e+00],\n",
       "        [3.70025379e-13, 6.14587623e-15, 0.00000000e+00],\n",
       "        [0.00000000e+00, 0.00000000e+00, 0.00000000e+00],\n",
       "        [0.00000000e+00, 0.00000000e+00, 0.00000000e+00]],\n",
       "\n",
       "       [[3.60076423e-17, 1.50702682e-17, 1.33482292e-17],\n",
       "        [0.00000000e+00, 0.00000000e+00, 0.00000000e+00],\n",
       "        [0.00000000e+00, 0.00000000e+00, 0.00000000e+00],\n",
       "        [0.00000000e+00, 0.00000000e+00, 0.00000000e+00],\n",
       "        [0.00000000e+00, 0.00000000e+00, 0.00000000e+00],\n",
       "        [0.00000000e+00, 0.00000000e+00, 0.00000000e+00],\n",
       "        [0.00000000e+00, 0.00000000e+00, 0.00000000e+00],\n",
       "        [0.00000000e+00, 0.00000000e+00, 0.00000000e+00],\n",
       "        [0.00000000e+00, 0.00000000e+00, 0.00000000e+00],\n",
       "        [0.00000000e+00, 0.00000000e+00, 0.00000000e+00],\n",
       "        [0.00000000e+00, 0.00000000e+00, 0.00000000e+00],\n",
       "        [0.00000000e+00, 0.00000000e+00, 0.00000000e+00],\n",
       "        [0.00000000e+00, 0.00000000e+00, 0.00000000e+00],\n",
       "        [0.00000000e+00, 0.00000000e+00, 0.00000000e+00],\n",
       "        [0.00000000e+00, 0.00000000e+00, 0.00000000e+00],\n",
       "        [0.00000000e+00, 0.00000000e+00, 0.00000000e+00],\n",
       "        [0.00000000e+00, 0.00000000e+00, 0.00000000e+00],\n",
       "        [0.00000000e+00, 0.00000000e+00, 0.00000000e+00],\n",
       "        [0.00000000e+00, 0.00000000e+00, 0.00000000e+00],\n",
       "        [0.00000000e+00, 0.00000000e+00, 0.00000000e+00],\n",
       "        [0.00000000e+00, 0.00000000e+00, 0.00000000e+00]],\n",
       "\n",
       "       [[0.00000000e+00, 0.00000000e+00, 0.00000000e+00],\n",
       "        [4.51620408e-22, 1.89016560e-22, 1.67418146e-22],\n",
       "        [0.00000000e+00, 0.00000000e+00, 0.00000000e+00],\n",
       "        [0.00000000e+00, 0.00000000e+00, 0.00000000e+00],\n",
       "        [0.00000000e+00, 0.00000000e+00, 0.00000000e+00],\n",
       "        [0.00000000e+00, 0.00000000e+00, 0.00000000e+00],\n",
       "        [0.00000000e+00, 0.00000000e+00, 0.00000000e+00],\n",
       "        [0.00000000e+00, 0.00000000e+00, 0.00000000e+00],\n",
       "        [0.00000000e+00, 0.00000000e+00, 0.00000000e+00],\n",
       "        [0.00000000e+00, 0.00000000e+00, 0.00000000e+00],\n",
       "        [0.00000000e+00, 0.00000000e+00, 0.00000000e+00],\n",
       "        [0.00000000e+00, 0.00000000e+00, 0.00000000e+00],\n",
       "        [0.00000000e+00, 0.00000000e+00, 0.00000000e+00],\n",
       "        [0.00000000e+00, 0.00000000e+00, 0.00000000e+00],\n",
       "        [0.00000000e+00, 0.00000000e+00, 0.00000000e+00],\n",
       "        [0.00000000e+00, 0.00000000e+00, 0.00000000e+00],\n",
       "        [0.00000000e+00, 0.00000000e+00, 0.00000000e+00],\n",
       "        [0.00000000e+00, 0.00000000e+00, 0.00000000e+00],\n",
       "        [0.00000000e+00, 0.00000000e+00, 0.00000000e+00],\n",
       "        [0.00000000e+00, 0.00000000e+00, 0.00000000e+00],\n",
       "        [0.00000000e+00, 0.00000000e+00, 0.00000000e+00]],\n",
       "\n",
       "       [[0.00000000e+00, 0.00000000e+00, 0.00000000e+00],\n",
       "        [4.71007751e-26, 1.97130739e-26, 1.74605140e-26],\n",
       "        [0.00000000e+00, 0.00000000e+00, 0.00000000e+00],\n",
       "        [0.00000000e+00, 0.00000000e+00, 0.00000000e+00],\n",
       "        [0.00000000e+00, 0.00000000e+00, 0.00000000e+00],\n",
       "        [0.00000000e+00, 0.00000000e+00, 0.00000000e+00],\n",
       "        [0.00000000e+00, 0.00000000e+00, 0.00000000e+00],\n",
       "        [3.20349731e-23, 1.34075881e-23, 1.18755391e-23],\n",
       "        [0.00000000e+00, 0.00000000e+00, 0.00000000e+00],\n",
       "        [0.00000000e+00, 0.00000000e+00, 0.00000000e+00],\n",
       "        [0.00000000e+00, 0.00000000e+00, 0.00000000e+00],\n",
       "        [0.00000000e+00, 0.00000000e+00, 0.00000000e+00],\n",
       "        [0.00000000e+00, 0.00000000e+00, 0.00000000e+00],\n",
       "        [0.00000000e+00, 0.00000000e+00, 0.00000000e+00],\n",
       "        [0.00000000e+00, 0.00000000e+00, 0.00000000e+00],\n",
       "        [0.00000000e+00, 0.00000000e+00, 0.00000000e+00],\n",
       "        [0.00000000e+00, 0.00000000e+00, 0.00000000e+00],\n",
       "        [0.00000000e+00, 0.00000000e+00, 0.00000000e+00],\n",
       "        [0.00000000e+00, 0.00000000e+00, 0.00000000e+00],\n",
       "        [0.00000000e+00, 0.00000000e+00, 0.00000000e+00],\n",
       "        [0.00000000e+00, 0.00000000e+00, 0.00000000e+00]],\n",
       "\n",
       "       [[0.00000000e+00, 0.00000000e+00, 0.00000000e+00],\n",
       "        [0.00000000e+00, 0.00000000e+00, 0.00000000e+00],\n",
       "        [0.00000000e+00, 0.00000000e+00, 0.00000000e+00],\n",
       "        [0.00000000e+00, 0.00000000e+00, 0.00000000e+00],\n",
       "        [0.00000000e+00, 0.00000000e+00, 0.00000000e+00],\n",
       "        [0.00000000e+00, 0.00000000e+00, 0.00000000e+00],\n",
       "        [0.00000000e+00, 0.00000000e+00, 0.00000000e+00],\n",
       "        [0.00000000e+00, 0.00000000e+00, 0.00000000e+00],\n",
       "        [0.00000000e+00, 0.00000000e+00, 0.00000000e+00],\n",
       "        [0.00000000e+00, 0.00000000e+00, 0.00000000e+00],\n",
       "        [0.00000000e+00, 0.00000000e+00, 0.00000000e+00],\n",
       "        [0.00000000e+00, 0.00000000e+00, 0.00000000e+00],\n",
       "        [0.00000000e+00, 0.00000000e+00, 0.00000000e+00],\n",
       "        [0.00000000e+00, 0.00000000e+00, 0.00000000e+00],\n",
       "        [0.00000000e+00, 0.00000000e+00, 0.00000000e+00],\n",
       "        [0.00000000e+00, 0.00000000e+00, 0.00000000e+00],\n",
       "        [0.00000000e+00, 0.00000000e+00, 0.00000000e+00],\n",
       "        [0.00000000e+00, 0.00000000e+00, 0.00000000e+00],\n",
       "        [0.00000000e+00, 0.00000000e+00, 0.00000000e+00],\n",
       "        [0.00000000e+00, 0.00000000e+00, 0.00000000e+00],\n",
       "        [0.00000000e+00, 0.00000000e+00, 0.00000000e+00]]])"
      ]
     },
     "execution_count": 12,
     "metadata": {},
     "output_type": "execute_result"
    }
   ],
   "source": [
    "P"
   ]
  },
  {
   "cell_type": "code",
   "execution_count": 13,
   "metadata": {
    "ExecuteTime": {
     "end_time": "2020-12-01T21:11:00.012895Z",
     "start_time": "2020-12-01T21:10:59.998905Z"
    }
   },
   "outputs": [
    {
     "data": {
      "text/plain": [
       "[[['-', '-', '-'],\n",
       "  ['-', '-', '-'],\n",
       "  ['-', '-', '-'],\n",
       "  ['-', '-', '-'],\n",
       "  ['-', '-', '-'],\n",
       "  ['-', '-', '-'],\n",
       "  ['-', '-', '-'],\n",
       "  ['-', '-', '-'],\n",
       "  ['-', '-', '-'],\n",
       "  ['-', '-', '-'],\n",
       "  ['-', '-', '-'],\n",
       "  ['-', '-', '-'],\n",
       "  ['-', '-', '-'],\n",
       "  ['-', '-', '-'],\n",
       "  ['-', '-', '-'],\n",
       "  ['-', '-', '-'],\n",
       "  ['-', '-', '-'],\n",
       "  ['-', '-', '-'],\n",
       "  ['-', '-', '-'],\n",
       "  ['-', '-', '-'],\n",
       "  ['-', '-', '-']],\n",
       " [['START', '-', '-'],\n",
       "  ['START', '-', '-'],\n",
       "  ['START', '-', '-'],\n",
       "  ['START', '-', '-'],\n",
       "  ['START', '-', '-'],\n",
       "  ['START', '-', '-'],\n",
       "  ['START', '-', '-'],\n",
       "  ['START', '-', '-'],\n",
       "  ['START', '-', '-'],\n",
       "  ['START', '-', '-'],\n",
       "  ['START', '-', '-'],\n",
       "  ['START', '-', '-'],\n",
       "  ['START', '-', '-'],\n",
       "  ['START', '-', '-'],\n",
       "  ['START', '-', '-'],\n",
       "  ['START', '-', '-'],\n",
       "  ['START', '-', '-'],\n",
       "  ['START', '-', '-'],\n",
       "  ['START', '-', '-'],\n",
       "  ['START', '-', '-'],\n",
       "  ['START', '-', '-']],\n",
       " [['B-NP', 'O', 'I-ADJP'],\n",
       "  ['B-NP', 'I-ADJP', 'I-VP'],\n",
       "  ['B-NP', 'O', 'I-ADJP'],\n",
       "  ['B-NP', 'O', 'I-ADJP'],\n",
       "  ['B-NP', 'O', 'I-ADJP'],\n",
       "  ['B-LST', 'I-ADJP', 'I-VP'],\n",
       "  ['B-NP', 'O', 'I-ADJP'],\n",
       "  ['B-NP', 'O', 'I-ADJP'],\n",
       "  ['B-NP', 'O', 'I-ADJP'],\n",
       "  ['B-LST', 'I-ADJP', 'I-VP'],\n",
       "  ['B-LST', 'I-ADJP', 'I-VP'],\n",
       "  ['B-NP', 'O', 'I-ADJP'],\n",
       "  ['B-LST', 'I-ADJP', 'I-VP'],\n",
       "  ['B-NP', 'O', 'I-ADJP'],\n",
       "  ['B-LST', 'I-ADJP', 'I-VP'],\n",
       "  ['O', 'B-LST', 'I-ADJP'],\n",
       "  ['B-LST', 'I-ADJP', 'I-VP'],\n",
       "  ['B-LST', 'I-ADJP', 'I-VP'],\n",
       "  ['B-NP', 'I-ADJP', 'I-VP'],\n",
       "  ['B-LST', 'I-ADJP', 'I-VP'],\n",
       "  ['O', 'B-LST', 'I-ADJP']],\n",
       " [['I-NP', 'B-NP', 'B-NP'],\n",
       "  ['I-NP', 'B-NP', 'B-NP'],\n",
       "  ['I-NP', 'B-NP', 'B-NP'],\n",
       "  ['I-NP', 'B-NP', 'B-NP'],\n",
       "  ['I-NP', 'B-NP', 'B-NP'],\n",
       "  ['B-LST', 'I-ADJP', 'I-VP'],\n",
       "  ['I-NP', 'B-NP', 'B-NP'],\n",
       "  ['I-NP', 'B-NP', 'B-NP'],\n",
       "  ['I-NP', 'B-NP', 'B-NP'],\n",
       "  ['B-LST', 'I-ADJP', 'I-VP'],\n",
       "  ['B-LST', 'I-ADJP', 'I-VP'],\n",
       "  ['I-NP', 'B-NP', 'B-NP'],\n",
       "  ['B-LST', 'I-ADJP', 'I-VP'],\n",
       "  ['I-NP', 'B-NP', 'B-NP'],\n",
       "  ['B-LST', 'I-ADJP', 'I-VP'],\n",
       "  ['B-LST', 'I-ADJP', 'I-VP'],\n",
       "  ['B-LST', 'I-ADJP', 'I-VP'],\n",
       "  ['B-LST', 'I-ADJP', 'I-VP'],\n",
       "  ['B-NP', 'B-NP', 'I-ADJP'],\n",
       "  ['B-LST', 'I-ADJP', 'I-VP'],\n",
       "  ['B-LST', 'I-ADJP', 'I-VP']],\n",
       " [['B-PP', 'O', 'B-SBAR'],\n",
       "  ['I-NP', 'B-NP', 'I-NP'],\n",
       "  ['O', 'I-NP', 'B-ADVP'],\n",
       "  ['O', 'B-VP', 'I-NP'],\n",
       "  ['B-VP', 'O', 'B-ADVP'],\n",
       "  ['B-ADJP', 'B-ADJP', 'B-ADJP'],\n",
       "  ['I-NP', 'B-ADVP', 'B-VP'],\n",
       "  ['I-NP', 'B-ADVP', 'O'],\n",
       "  ['B-VP', 'O', 'B-ADJP'],\n",
       "  ['B-VP', 'B-VP', 'B-VP'],\n",
       "  ['B-ADVP', 'B-ADVP', 'B-ADVP'],\n",
       "  ['B-VP', 'B-VP', 'B-ADJP'],\n",
       "  ['B-PP', 'B-PP', 'B-PP'],\n",
       "  ['O', 'B-ADVP', 'I-NP'],\n",
       "  ['B-CONJP', 'B-CONJP', 'B-CONJP'],\n",
       "  ['O', 'B-VP', 'O'],\n",
       "  ['B-LST', 'I-ADJP', 'I-VP'],\n",
       "  ['B-SBAR', 'B-SBAR', 'B-SBAR'],\n",
       "  ['B-NP', 'B-NP', 'B-NP'],\n",
       "  ['B-UCP', 'B-UCP', 'O'],\n",
       "  ['B-SBAR', 'O', 'B-SBAR']],\n",
       " [['B-NP', 'B-NP', 'B-NP'],\n",
       "  ['B-NP', 'B-NP', 'B-NP'],\n",
       "  ['B-NP', 'B-NP', 'B-NP'],\n",
       "  ['B-NP', 'B-NP', 'B-NP'],\n",
       "  ['B-NP', 'B-NP', 'B-NP'],\n",
       "  ['B-LST', 'I-ADJP', 'I-VP'],\n",
       "  ['B-NP', 'B-NP', 'B-NP'],\n",
       "  ['B-NP', 'B-NP', 'B-NP'],\n",
       "  ['B-NP', 'B-NP', 'B-NP'],\n",
       "  ['B-LST', 'I-ADJP', 'I-VP'],\n",
       "  ['B-LST', 'I-ADJP', 'I-VP'],\n",
       "  ['B-NP', 'B-NP', 'B-NP'],\n",
       "  ['B-LST', 'I-ADJP', 'I-VP'],\n",
       "  ['B-NP', 'B-NP', 'B-NP'],\n",
       "  ['B-LST', 'I-ADJP', 'I-VP'],\n",
       "  ['B-LST', 'I-ADJP', 'I-VP'],\n",
       "  ['B-LST', 'I-ADJP', 'I-VP'],\n",
       "  ['B-LST', 'I-ADJP', 'I-VP'],\n",
       "  ['B-NP', 'B-NP', 'B-NP'],\n",
       "  ['B-LST', 'I-ADJP', 'I-VP'],\n",
       "  ['B-LST', 'I-ADJP', 'I-VP']],\n",
       " [['I-NP', 'I-NP', 'I-NP'],\n",
       "  ['I-NP', 'I-NP', 'I-NP'],\n",
       "  ['I-NP', 'I-NP', 'I-NP'],\n",
       "  ['I-NP', 'I-NP', 'I-NP'],\n",
       "  ['I-NP', 'I-NP', 'I-NP'],\n",
       "  ['B-LST', 'I-ADJP', 'I-VP'],\n",
       "  ['I-NP', 'I-NP', 'I-NP'],\n",
       "  ['I-NP', 'I-NP', 'I-NP'],\n",
       "  ['I-NP', 'I-NP', 'I-NP'],\n",
       "  ['B-LST', 'I-ADJP', 'I-VP'],\n",
       "  ['B-LST', 'I-ADJP', 'I-VP'],\n",
       "  ['I-NP', 'I-NP', 'I-NP'],\n",
       "  ['B-LST', 'I-ADJP', 'I-VP'],\n",
       "  ['I-NP', 'I-NP', 'I-NP'],\n",
       "  ['B-LST', 'I-ADJP', 'I-VP'],\n",
       "  ['B-LST', 'I-ADJP', 'I-VP'],\n",
       "  ['B-LST', 'I-ADJP', 'I-VP'],\n",
       "  ['B-LST', 'I-ADJP', 'I-VP'],\n",
       "  ['B-LST', 'I-ADJP', 'I-VP'],\n",
       "  ['B-LST', 'I-ADJP', 'I-VP'],\n",
       "  ['B-LST', 'I-ADJP', 'I-VP']],\n",
       " [['-', '-', '-'],\n",
       "  ['-', '-', '-'],\n",
       "  ['-', '-', '-'],\n",
       "  ['-', '-', '-'],\n",
       "  ['-', '-', '-'],\n",
       "  ['-', '-', '-'],\n",
       "  ['-', '-', '-'],\n",
       "  ['-', '-', '-'],\n",
       "  ['-', '-', '-'],\n",
       "  ['-', '-', '-'],\n",
       "  ['-', '-', '-'],\n",
       "  ['-', '-', '-'],\n",
       "  ['-', '-', '-'],\n",
       "  ['-', '-', '-'],\n",
       "  ['-', '-', '-'],\n",
       "  ['-', '-', '-'],\n",
       "  ['-', '-', '-'],\n",
       "  ['-', '-', '-'],\n",
       "  ['-', '-', '-'],\n",
       "  ['-', '-', '-'],\n",
       "  ['-', '-', '-']]]"
      ]
     },
     "execution_count": 13,
     "metadata": {},
     "output_type": "execute_result"
    }
   ],
   "source": [
    "B"
   ]
  },
  {
   "cell_type": "code",
   "execution_count": 16,
   "metadata": {
    "ExecuteTime": {
     "end_time": "2020-12-01T21:16:49.826555Z",
     "start_time": "2020-12-01T21:16:49.819555Z"
    }
   },
   "outputs": [
    {
     "data": {
      "text/plain": [
       "['B-NP',\n",
       " 'I-NP',\n",
       " 'B-VP',\n",
       " 'B-ADVP',\n",
       " 'B-ADJP',\n",
       " 'I-ADJP',\n",
       " 'B-PP',\n",
       " 'O',\n",
       " 'B-SBAR',\n",
       " 'I-VP',\n",
       " 'I-ADVP',\n",
       " 'B-PRT',\n",
       " 'I-PP',\n",
       " 'B-CONJP',\n",
       " 'I-CONJP',\n",
       " 'B-INTJ',\n",
       " 'I-INTJ',\n",
       " 'I-SBAR',\n",
       " 'B-UCP',\n",
       " 'I-UCP',\n",
       " 'B-LST']"
      ]
     },
     "execution_count": 16,
     "metadata": {},
     "output_type": "execute_result"
    }
   ],
   "source": [
    "all_states"
   ]
  },
  {
   "cell_type": "markdown",
   "metadata": {},
   "source": [
    "```\n",
    "['The', 'quick', 'brown', 'fox', 'jumps', '.']\n",
    "['B-NP', 'I-NP', 'B-PP', 'B-NP', 'I-NP', 'O']\n",
    "```"
   ]
  },
  {
   "cell_type": "code",
   "execution_count": null,
   "metadata": {},
   "outputs": [],
   "source": []
  }
 ],
 "metadata": {
  "kernelspec": {
   "display_name": "Python 3",
   "language": "python",
   "name": "python3"
  },
  "language_info": {
   "codemirror_mode": {
    "name": "ipython",
    "version": 3
   },
   "file_extension": ".py",
   "mimetype": "text/x-python",
   "name": "python",
   "nbconvert_exporter": "python",
   "pygments_lexer": "ipython3",
   "version": "3.7.6"
  }
 },
 "nbformat": 4,
 "nbformat_minor": 4
}
