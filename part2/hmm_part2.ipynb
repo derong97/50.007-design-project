{
 "cells": [
  {
   "cell_type": "code",
   "execution_count": 1,
   "metadata": {
    "ExecuteTime": {
     "end_time": "2020-12-08T12:28:02.226801Z",
     "start_time": "2020-12-08T12:28:02.122796Z"
    }
   },
   "outputs": [],
   "source": [
    "from tqdm.auto import tqdm"
   ]
  },
  {
   "cell_type": "markdown",
   "metadata": {},
   "source": [
    "## Estimate emission parameters from the training set using MLE"
   ]
  },
  {
   "cell_type": "code",
   "execution_count": 2,
   "metadata": {
    "ExecuteTime": {
     "end_time": "2020-12-08T12:28:02.242805Z",
     "start_time": "2020-12-08T12:28:02.228805Z"
    }
   },
   "outputs": [],
   "source": [
    "def train_emission(filename):\n",
    "    \"\"\"\n",
    "    Returns - a dictionary containing emission parameters\n",
    "    \"\"\"\n",
    "    with open(filename, encoding=\"utf8\") as f:\n",
    "        lines = f.readlines()\n",
    "    \n",
    "    # for each state y, keep track of each observation count i.e. count (y -> x)\n",
    "    # before eg: {state1: {obs1: 1, obs2: 5}, state2: {obs1: 4}}\n",
    "    emission_dict = {}\n",
    "    \n",
    "    # update emission_dict for state with count(y -> x) = 0\n",
    "    # after eg: {state1: {obs1: 1, obs2: 5}, state2: {obs1: 4, obs2: 0}}\n",
    "    observations = set()\n",
    "    \n",
    "    for line in lines:\n",
    "        split_line = line.split()\n",
    "        \n",
    "        # process only valid lines\n",
    "        if len(split_line) == 2:\n",
    "            obs, state = split_line[0], split_line[1]\n",
    "            \n",
    "            observations.add(obs)\n",
    "            \n",
    "            if state not in emission_dict:\n",
    "                emission_dict[state] = {}\n",
    "                \n",
    "            if obs not in emission_dict[state]:\n",
    "                emission_dict[state][obs] = 1\n",
    "            else:\n",
    "                emission_dict[state][obs] += 1\n",
    "\n",
    "    for k, v in emission_dict.items():\n",
    "        for obs in observations:\n",
    "            if obs not in v:\n",
    "                emission_dict[k][obs] = 0\n",
    "    \n",
    "    return emission_dict"
   ]
  },
  {
   "cell_type": "code",
   "execution_count": 3,
   "metadata": {
    "ExecuteTime": {
     "end_time": "2020-12-08T12:28:02.258805Z",
     "start_time": "2020-12-08T12:28:02.244806Z"
    }
   },
   "outputs": [],
   "source": [
    "def get_emission_params(emission_dict, state, obs):\n",
    "    \n",
    "    if state not in emission_dict:\n",
    "        raise Exception(\"State not in emission dict\")\n",
    "    \n",
    "    state_data = emission_dict[state]\n",
    "    \n",
    "    if obs not in state_data:\n",
    "        raise Exception(\"Word did not appear in training data\")\n",
    "    \n",
    "    count_y_to_x = state_data[obs] # count(y -> x)\n",
    "    count_y = sum(state_data.values()) # count(y)\n",
    "    \n",
    "    return count_y_to_x / count_y"
   ]
  },
  {
   "cell_type": "markdown",
   "metadata": {},
   "source": [
    "### Testing with example "
   ]
  },
  {
   "cell_type": "code",
   "execution_count": 4,
   "metadata": {
    "ExecuteTime": {
     "end_time": "2020-12-08T12:28:02.637832Z",
     "start_time": "2020-12-08T12:28:02.260806Z"
    }
   },
   "outputs": [
    {
     "data": {
      "text/plain": [
       "0.0003846787932076716"
      ]
     },
     "execution_count": 4,
     "metadata": {},
     "output_type": "execute_result"
    }
   ],
   "source": [
    "emission_dict = train_emission('../dataset/EN/train')\n",
    "\n",
    "# emission_dict\n",
    "get_emission_params(emission_dict, 'I-NP', 'corporate')"
   ]
  },
  {
   "cell_type": "markdown",
   "metadata": {},
   "source": [
    "## Modify the computation of emission probabilities\n",
    "This is to account for words that appear in the test set but do not appear in the training set. Before running this function, such words should have been replaced by the `#UNK#` token during the testing phase."
   ]
  },
  {
   "cell_type": "code",
   "execution_count": 5,
   "metadata": {
    "ExecuteTime": {
     "end_time": "2020-12-08T12:28:02.652835Z",
     "start_time": "2020-12-08T12:28:02.639835Z"
    }
   },
   "outputs": [],
   "source": [
    "def get_emission_params_fixed(emission_dict, state, obs, k=0.5):\n",
    "    \n",
    "    if state not in emission_dict:\n",
    "        raise Exception(\"State not in emission dict\")\n",
    "    \n",
    "    state_data = emission_dict[state]\n",
    "    count_y = sum(state_data.values()) # count(y)\n",
    "    \n",
    "    if obs == \"#UNK#\":\n",
    "        count_y_to_x = k\n",
    "    else:\n",
    "        count_y_to_x = state_data[obs] # count(y -> x)\n",
    "    \n",
    "    return count_y_to_x / (count_y + k)"
   ]
  },
  {
   "cell_type": "markdown",
   "metadata": {},
   "source": [
    "## Implement a simple system that produces the tag for each word `x` in the sequence"
   ]
  },
  {
   "cell_type": "code",
   "execution_count": 6,
   "metadata": {
    "ExecuteTime": {
     "end_time": "2020-12-08T12:28:02.668837Z",
     "start_time": "2020-12-08T12:28:02.654835Z"
    }
   },
   "outputs": [],
   "source": [
    "def obtain_all_obs(emission_dict):\n",
    "    \"\"\"\n",
    "    Obtain all distinct observations words in the emission_dict.\n",
    "    Purpose: This helps us identify words in Test Set that do not exist in the Training Set (or the emission_dict)\n",
    "    Returns - Set of Strings.\n",
    "    \"\"\"\n",
    "    all_observations = set()\n",
    "    \n",
    "    for s_to_obs_dict in emission_dict.values():\n",
    "        for obs in s_to_obs_dict.keys():\n",
    "            all_observations.add(obs)\n",
    "            \n",
    "    return all_observations\n",
    "\n",
    "def preprocess_sentence(sentence, training_set_words):\n",
    "    \"\"\"\n",
    "    sentence - a list of Strings (word or observations)\n",
    "    Returns - a list of Strings, where Strings not in training_set_words are replaced by \"#UNK#\"\n",
    "    \"\"\"\n",
    "    return [ word if word in training_set_words else \"#UNK#\" for word in sentence ]"
   ]
  },
  {
   "cell_type": "code",
   "execution_count": 7,
   "metadata": {
    "ExecuteTime": {
     "end_time": "2020-12-08T12:28:02.684835Z",
     "start_time": "2020-12-08T12:28:02.671836Z"
    }
   },
   "outputs": [],
   "source": [
    "def label_sequence(sentence, emission_dict):\n",
    "    \"\"\"\n",
    "    sentence - a list of Strings (words or observations).\n",
    "    emission_dict - a dictionary containing emission parameters\n",
    "    Returns - list of Strings (corresponding highest prob state for each word)\n",
    "    \"\"\"\n",
    "    \n",
    "    all_states = list(emission_dict.keys()) # all distinct states\n",
    "    \n",
    "    sequence = [] # aka tags\n",
    "    \n",
    "    for word in sentence:\n",
    "        emission_state = { state: get_emission_params_fixed(emission_dict, state, word) for state in all_states }\n",
    "        sequence.append(max(emission_state, key=lambda state: emission_state[state]))\n",
    "        \n",
    "    return sequence"
   ]
  },
  {
   "cell_type": "markdown",
   "metadata": {},
   "source": [
    "### Testing with example"
   ]
  },
  {
   "cell_type": "code",
   "execution_count": 8,
   "metadata": {
    "ExecuteTime": {
     "end_time": "2020-12-08T12:28:02.827846Z",
     "start_time": "2020-12-08T12:28:02.687836Z"
    }
   },
   "outputs": [
    {
     "name": "stdout",
     "output_type": "stream",
     "text": [
      "['The', 'quick', '#UNK#', 'fox', 'jumps', 'over', 'the', '#UNK#', 'dog', '.']\n",
      "['B-NP', 'B-NP', 'B-UCP', 'B-NP', 'I-NP', 'B-PRT', 'B-NP', 'B-UCP', 'I-NP', 'O']\n"
     ]
    }
   ],
   "source": [
    "training_set_words = obtain_all_obs(emission_dict)\n",
    "\n",
    "sentence = \"The quick brown fox jumps over the lazy dog .\"\n",
    "# sentence = \"The incident occurred Saturday night .\"\n",
    "\n",
    "sentence = sentence.split(' ')\n",
    "sentence = preprocess_sentence(sentence, training_set_words)\n",
    "\n",
    "print(sentence)\n",
    "print(label_sequence(sentence, emission_dict))"
   ]
  },
  {
   "cell_type": "markdown",
   "metadata": {},
   "source": [
    "## Evaluate on dev.in"
   ]
  },
  {
   "cell_type": "code",
   "execution_count": 9,
   "metadata": {
    "ExecuteTime": {
     "end_time": "2020-12-08T12:32:00.253900Z",
     "start_time": "2020-12-08T12:28:02.830848Z"
    },
    "scrolled": true
   },
   "outputs": [
    {
     "data": {
      "application/vnd.jupyter.widget-view+json": {
       "model_id": "557c94baef0b44f98ad30ba8937cf476",
       "version_major": 2,
       "version_minor": 0
      },
      "text/plain": [
       "HBox(children=(FloatProgress(value=0.0, max=3.0), HTML(value='')))"
      ]
     },
     "metadata": {},
     "output_type": "display_data"
    },
    {
     "name": "stdout",
     "output_type": "stream",
     "text": [
      "Evaluating on EN.\n"
     ]
    },
    {
     "data": {
      "application/vnd.jupyter.widget-view+json": {
       "model_id": "b08891432ba94d28b918d925dab746a1",
       "version_major": 2,
       "version_minor": 0
      },
      "text/plain": [
       "HBox(children=(FloatProgress(value=0.0, max=27225.0), HTML(value='')))"
      ]
     },
     "metadata": {},
     "output_type": "display_data"
    },
    {
     "name": "stdout",
     "output_type": "stream",
     "text": [
      "\n",
      "Evaluating on SG.\n"
     ]
    },
    {
     "data": {
      "application/vnd.jupyter.widget-view+json": {
       "model_id": "e42fe311dde64759a1cdcb31a3449f92",
       "version_major": 2,
       "version_minor": 0
      },
      "text/plain": [
       "HBox(children=(FloatProgress(value=0.0, max=36841.0), HTML(value='')))"
      ]
     },
     "metadata": {},
     "output_type": "display_data"
    },
    {
     "name": "stdout",
     "output_type": "stream",
     "text": [
      "\n",
      "Evaluating on CN.\n"
     ]
    },
    {
     "data": {
      "application/vnd.jupyter.widget-view+json": {
       "model_id": "597c0f8988fe401ba7cb6a03e3f50b2b",
       "version_major": 2,
       "version_minor": 0
      },
      "text/plain": [
       "HBox(children=(FloatProgress(value=0.0, max=13414.0), HTML(value='')))"
      ]
     },
     "metadata": {},
     "output_type": "display_data"
    },
    {
     "name": "stdout",
     "output_type": "stream",
     "text": [
      "\n",
      "\n"
     ]
    }
   ],
   "source": [
    "sets = ['EN', 'SG', 'CN']\n",
    "\n",
    "for dataset in tqdm(sets):\n",
    "    \n",
    "    print(f\"Evaluating on {dataset}.\")\n",
    "    \n",
    "    in_file = f\"../dataset/{dataset}/dev.in\"\n",
    "    train_file = f\"../dataset/{dataset}/train\"\n",
    "    out_file = f\"../dataset/{dataset}/dev.p2.out\"\n",
    "    \n",
    "    # Train\n",
    "    emission_dict = train_emission(train_file)\n",
    "    # Obtain all distinct words in Training Set\n",
    "    training_set_words = obtain_all_obs(emission_dict)\n",
    "    \n",
    "    # Create file handler to write to /dev.p2.out\n",
    "    outf_h = open(out_file, \"w\", encoding=\"utf8\")\n",
    "    \n",
    "    # Read in file\n",
    "    with open(in_file, encoding=\"utf8\") as f:\n",
    "        lines = f.readlines()\n",
    "        \n",
    "    sent = [] # initialise array to store 1 sentence at a time.\n",
    "    for word in tqdm(lines):\n",
    "        \n",
    "        if word != \"\\n\":\n",
    "            sent.append(word.strip())\n",
    "            \n",
    "        # We reached end of sentence - time to predict sentence's sequence of states (aka tags)\n",
    "        else:\n",
    "            # preprocess sentence (change unknown words to \"#UNK#\")\n",
    "            sent_proc = preprocess_sentence(sent, training_set_words)\n",
    "            # obtain processed sentence's predicted state seq (list of corresponding predicted states for each word in sent)\n",
    "            sent_state_sequence = label_sequence(sent_proc, emission_dict)\n",
    "\n",
    "            for word, state in zip(sent, sent_state_sequence):\n",
    "                outf_h.write(word + ' ' + state)\n",
    "                outf_h.write(\"\\n\") # newline for each word\n",
    "            outf_h.write(\"\\n\") # another newline when end of sentence\n",
    "\n",
    "            # Reset sentence list\n",
    "            sent = []\n",
    "    \n",
    "    outf_h.close()  "
   ]
  },
  {
   "cell_type": "markdown",
   "metadata": {},
   "source": [
    "### Testing with Example"
   ]
  },
  {
   "cell_type": "code",
   "execution_count": 10,
   "metadata": {
    "ExecuteTime": {
     "end_time": "2020-12-08T12:32:00.301908Z",
     "start_time": "2020-12-08T12:32:00.255900Z"
    }
   },
   "outputs": [],
   "source": [
    "training_set_words = obtain_all_obs(emission_dict)\n",
    "\n",
    "with open(\"../dataset/SG/dev.in\", encoding=\"utf8\") as f:\n",
    "    lines = f.readlines()"
   ]
  },
  {
   "cell_type": "code",
   "execution_count": 11,
   "metadata": {
    "ExecuteTime": {
     "end_time": "2020-12-08T12:32:43.153495Z",
     "start_time": "2020-12-08T12:32:00.307904Z"
    }
   },
   "outputs": [
    {
     "data": {
      "application/vnd.jupyter.widget-view+json": {
       "model_id": "35688d9095c146428f03b2ff4c22f10a",
       "version_major": 2,
       "version_minor": 0
      },
      "text/plain": [
       "HBox(children=(FloatProgress(value=0.0, max=36841.0), HTML(value='')))"
      ]
     },
     "metadata": {},
     "output_type": "display_data"
    },
    {
     "name": "stdout",
     "output_type": "stream",
     "text": [
      "\n"
     ]
    }
   ],
   "source": [
    "sent = []\n",
    "\n",
    "outf = open(\"demo.txt\", \"w\", encoding=\"utf8\")\n",
    "for word in tqdm(lines):\n",
    "\n",
    "    if word != \"\\n\":\n",
    "        sent.append(word.strip())\n",
    "    \n",
    "    # We reached end of sentence - time to predict sentence's sequence of states (aka tags)\n",
    "    else: \n",
    "        # preprocess sentence (change unknown words to \"#UNK#\")\n",
    "        sent_proc = preprocess_sentence(sent, training_set_words)\n",
    "        # obtain processed sentence's predicted state seq (list of corresponding predicted states for each word in sent)\n",
    "        sent_state_sequence = label_sequence(sent_proc, emission_dict)\n",
    "\n",
    "        for word, state in zip(sent, sent_state_sequence):\n",
    "            outf.write(word + ' ' + state)\n",
    "            outf.write(\"\\n\") # newline for each word\n",
    "        outf.write(\"\\n\") # another newline when end of sentence\n",
    "\n",
    "        # Reset sentence list\n",
    "        sent = []\n",
    "\n",
    "outf.close()"
   ]
  },
  {
   "cell_type": "markdown",
   "metadata": {},
   "source": [
    "# Gold Evaluation"
   ]
  },
  {
   "cell_type": "code",
   "execution_count": 12,
   "metadata": {
    "ExecuteTime": {
     "end_time": "2020-12-08T12:32:43.170499Z",
     "start_time": "2020-12-08T12:32:43.156496Z"
    }
   },
   "outputs": [
    {
     "name": "stdout",
     "output_type": "stream",
     "text": [
      "C:\\Users\\kting\\Documents\\GitHub\\50.007-design-project\\EvalScript\n"
     ]
    }
   ],
   "source": [
    "%cd ../EvalScript"
   ]
  },
  {
   "cell_type": "code",
   "execution_count": 13,
   "metadata": {
    "ExecuteTime": {
     "end_time": "2020-12-08T12:32:44.130388Z",
     "start_time": "2020-12-08T12:32:43.174499Z"
    }
   },
   "outputs": [
    {
     "name": "stdout",
     "output_type": "stream",
     "text": [
      "EN\n",
      "\n",
      "#Entity in gold data: 13179\n",
      "#Entity in prediction: 18650\n",
      "\n",
      "#Correct Entity : 9542\n",
      "Entity  precision: 0.5116\n",
      "Entity  recall: 0.7240\n",
      "Entity  F: 0.5996\n",
      "\n",
      "#Correct Sentiment : 8456\n",
      "Sentiment  precision: 0.4534\n",
      "Sentiment  recall: 0.6416\n",
      "Sentiment  F: 0.5313\n",
      "====================\n",
      "\n",
      "SG\n",
      "\n",
      "#Entity in gold data: 4301\n",
      "#Entity in prediction: 12237\n",
      "\n",
      "#Correct Entity : 2386\n",
      "Entity  precision: 0.1950\n",
      "Entity  recall: 0.5548\n",
      "Entity  F: 0.2885\n",
      "\n",
      "#Correct Sentiment : 1531\n",
      "Sentiment  precision: 0.1251\n",
      "Sentiment  recall: 0.3560\n",
      "Sentiment  F: 0.1851\n",
      "====================\n",
      "\n",
      "CN\n",
      "\n",
      "#Entity in gold data: 700\n",
      "#Entity in prediction: 4248\n",
      "\n",
      "#Correct Entity : 345\n",
      "Entity  precision: 0.0812\n",
      "Entity  recall: 0.4929\n",
      "Entity  F: 0.1395\n",
      "\n",
      "#Correct Sentiment : 167\n",
      "Sentiment  precision: 0.0393\n",
      "Sentiment  recall: 0.2386\n",
      "Sentiment  F: 0.0675\n",
      "====================\n",
      "\n"
     ]
    }
   ],
   "source": [
    "datasets = ['EN', 'SG', 'CN']\n",
    "\n",
    "for dataset in datasets:\n",
    "    gold = f\"../dataset/{dataset}/dev.out\"\n",
    "    pred = f\"../dataset/{dataset}/dev.p2.out\"\n",
    "    print(dataset)\n",
    "    !python evalResult.py $gold $pred\n",
    "    print(\"=\" * 20, end=\"\\n\\n\")"
   ]
  },
  {
   "cell_type": "code",
   "execution_count": null,
   "metadata": {},
   "outputs": [],
   "source": []
  }
 ],
 "metadata": {
  "kernelspec": {
   "display_name": "Python 3",
   "language": "python",
   "name": "python3"
  },
  "language_info": {
   "codemirror_mode": {
    "name": "ipython",
    "version": 3
   },
   "file_extension": ".py",
   "mimetype": "text/x-python",
   "name": "python",
   "nbconvert_exporter": "python",
   "pygments_lexer": "ipython3",
   "version": "3.7.6"
  }
 },
 "nbformat": 4,
 "nbformat_minor": 4
}
